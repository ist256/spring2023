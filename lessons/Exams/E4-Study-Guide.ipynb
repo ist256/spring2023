{
 "cells": [
  {
   "cell_type": "markdown",
   "id": "412c361e",
   "metadata": {},
   "source": [
    "# Exam 4\n",
    "\n",
    "As usual the exam is naturally cumulative, with Exam 4 emphasizing these 3 units:\n",
    "\n",
    "- 11 Web API's\n",
    "  - code: requests requests.get, requests.post, raise_for_status(), response.text, response.ok, response.json()\n",
    "  - concepts: get, post, header, query string, status codes, url, common ways API's are called, OAUTH2\n",
    "- 12 Pandas\n",
    "  - code: pd.DataFrame(), pd.json_normalize()  read_csv(), to_records(), .columns, .merge(), .value_counts(), .unique(), iloc[]\n",
    "  - concepts: column selectors, row selectors, Series, Data frame, index\n",
    "- 13 Visualizations\n",
    "  - code: matplotlib plt, plotly folium, add_child, marker\n",
    "  - concepts: get, post, header, query string, status code, url, common ways API's are called\n",
    "- Project Related stuff: pip, modules, dir() and help()\n",
    "\n",
    "### Exam Prep\n",
    "\n",
    "1. Make yourself a study guide of the key points from these units, revisit. \n",
    "  - Large Group slides\n",
    "  - MY CUSTOM READING ON HTTP and PANDAS IS A MUST\n",
    "2. Review the questions we covered at the beginning of each large group.\n",
    "3. Test yourself modifying the code in the questions and tracing the results yourself. \n",
    "\n",
    "\n",
    "### Other\n",
    "\n",
    "- Exam is issued DURING CLASS TIME on Monday 5/1. You don't have to come to class to take the exam.\n",
    "- Exam opens at 3:30pm. Exam closes at 5:05 pm."
   ]
  },
  {
   "cell_type": "markdown",
   "id": "187f7803",
   "metadata": {},
   "source": [
    "# Code Trace Examples\n",
    "\n",
    "Here are some example code traces similar to what might be on the exam.\n",
    "\n",
    "## Data Frame Columns Example\n",
    "What prints on lines 7,8,9?"
   ]
  },
  {
   "cell_type": "code",
   "execution_count": null,
   "id": "a61e4f1c",
   "metadata": {},
   "outputs": [],
   "source": [
    "import pandas as pd\n",
    "x = [ { 'a' :2, 'b' : 'x', 'c' : 10}, \n",
    "      { 'a' :4, 'b' : 'y', 'c' : 3},\n",
    "      { 'a' :1, 'b' : 'x', 'c' : 6} ]\n",
    "y = pd.DataFrame(x)\n",
    "\n",
    "print(y[ ['a'] ].iloc[0,0])\n",
    "print(y[ ['a','b'] ].iloc[0,1])\n",
    "print(y[ ['a','b'] ].iloc[1,1])"
   ]
  },
  {
   "cell_type": "markdown",
   "id": "a12a6b73",
   "metadata": {},
   "source": [
    "## Data Frame Row Selector Example\n",
    "What prints on lines 7,8,9?"
   ]
  },
  {
   "cell_type": "code",
   "execution_count": null,
   "id": "80dc472b",
   "metadata": {},
   "outputs": [],
   "source": [
    "import pandas as pd\n",
    "x = [ { 'a' :2, 'b' : 'x', 'c' : 10}, \n",
    "      { 'a' :4, 'b' : 'y', 'c' : 3},\n",
    "      { 'a' :1, 'b' : 'x', 'c' : 6} ]\n",
    "y = pd.DataFrame(x)\n",
    "\n",
    "print(y[ y['a']>3 ].iloc[0,0])\n",
    "print(y[ y['c']==3 ].iloc[0,1])\n",
    "print(y[ y['a']>1 ].iloc[1,2])"
   ]
  },
  {
   "cell_type": "markdown",
   "id": "4c084762",
   "metadata": {},
   "source": [
    "## DataFrame Row/Col Selectors\n",
    "what prints on line 6,7,8,9?"
   ]
  },
  {
   "cell_type": "code",
   "execution_count": null,
   "id": "9f7b4062",
   "metadata": {},
   "outputs": [],
   "source": [
    "import pandas as pd\n",
    "x = [ { 'a' :2, 'b' : 'x', 'c' : 10}, \n",
    "      { 'a' :4, 'b' : 'y', 'c' : 3},\n",
    "      { 'a' :1, 'b' : 'x', 'c' : 6} ]\n",
    "y = pd.DataFrame(x)\n",
    "\n",
    "print(y[ y['a']==2 ][['a']].iloc[0,0])\n",
    "print(y[ y['c']==3 ][['a','b']].iloc[0,1])\n",
    "print(y[['b','c']][ y['a']>1 ].iloc[1,1])"
   ]
  },
  {
   "cell_type": "markdown",
   "id": "f6487975",
   "metadata": {},
   "source": [
    "## Requests Example\n",
    "\n",
    "The HTTP response from the api call is:\n",
    "```\n",
    "{ 'data' : [ {'item' : 5}, {'item': 7, 'value' : 's'} ] }\n",
    "```\n",
    "\n",
    "What prints on line 7,8,9? (NOTE: You can't run this code)"
   ]
  },
  {
   "cell_type": "code",
   "execution_count": null,
   "id": "ba15cb96",
   "metadata": {},
   "outputs": [],
   "source": [
    "import requests\n",
    "y = { 'a' : 4}\n",
    "x = {'x' : \"y\" }\n",
    "response = requests.get(\"https://somesite.com\", params=y, headers=x)\n",
    "response.raise_for_status()\n",
    "data = response.json()\n",
    "print(data[0]['item'])\n",
    "print(data['data'][-1]['item'])\n",
    "print(data['data'][3]['item'])"
   ]
  },
  {
   "cell_type": "markdown",
   "id": "a563c926",
   "metadata": {},
   "source": [
    "## API Concepts\n",
    "\n",
    "For the code above\n",
    "\n",
    "1. Which status_code would constitute an error? 201? 401? 302? 202?\n",
    "2. For the code above what does the `response.url` look like? https://somesite.com/?x=y or https://somesite.com/?a=4\n",
    "3. Where can the API keys go? What are the possibilities / Options?\n",
    "4. Explain the 2-step OAUTH process\n",
    "\n"
   ]
  },
  {
   "cell_type": "markdown",
   "id": "41879974",
   "metadata": {},
   "source": [
    "## Visualization\n",
    "\n",
    "Know how to:\n",
    "    \n",
    "1. Plot with `matplotlib.pyplot as plt`\n",
    "2. Plot with pandas and plotly express\n",
    "2. Place pins on a `folium.Map`"
   ]
  },
  {
   "cell_type": "code",
   "execution_count": null,
   "id": "baa773ad",
   "metadata": {},
   "outputs": [],
   "source": []
  }
 ],
 "metadata": {
  "kernelspec": {
   "display_name": "Python 3 (ipykernel)",
   "language": "python",
   "name": "python3"
  },
  "language_info": {
   "codemirror_mode": {
    "name": "ipython",
    "version": 3
   },
   "file_extension": ".py",
   "mimetype": "text/x-python",
   "name": "python",
   "nbconvert_exporter": "python",
   "pygments_lexer": "ipython3",
   "version": "3.9.7"
  },
  "varInspector": {
   "cols": {
    "lenName": 16,
    "lenType": 16,
    "lenVar": 40
   },
   "kernels_config": {
    "python": {
     "delete_cmd_postfix": "",
     "delete_cmd_prefix": "del ",
     "library": "var_list.py",
     "varRefreshCmd": "print(var_dic_list())"
    },
    "r": {
     "delete_cmd_postfix": ") ",
     "delete_cmd_prefix": "rm(",
     "library": "var_list.r",
     "varRefreshCmd": "cat(var_dic_list()) "
    }
   },
   "types_to_exclude": [
    "module",
    "function",
    "builtin_function_or_method",
    "instance",
    "_Feature"
   ],
   "window_display": false
  }
 },
 "nbformat": 4,
 "nbformat_minor": 5
}
