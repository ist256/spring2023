{
 "cells": [
  {
   "cell_type": "markdown",
   "id": "412c361e",
   "metadata": {},
   "source": [
    "# Exam 2\n",
    "\n",
    "Exam 2 covers these 4 units:\n",
    "\n",
    "- 04 iterations \n",
    "  - code: while, for, break, range()\n",
    "  - concepts: definite and indefinite loops. Test/exit conditions, infinite loops, iterable\n",
    "- 05 user defined functions and modules \n",
    "  - code: def, return, import, from import, dir(), help(), assert\n",
    "  - concepts: function definition, function call, arguments, named arguments, tests, module, package, pip\n",
    "- 06 Strings and Text processing\n",
    "  - code: split(), upper(), lower(), find(), replace(), strip(), count(), startswith(), endswith(), [:] (slice operator)\n",
    "  - concepts: parsing, slices, tokenization, \n",
    "- 07 File I/O / persistence\n",
    "  - code: with open(), read(), readlines(), write()\n",
    "  - concepts: context manager, file handle, file name, open modes(\"r\",\"w\",\"a\"), reading, writing, appending\n",
    "\n",
    "### Exam Prep\n",
    "\n",
    "1. Make yourself a study guide of the key points from these units, revisit. \n",
    "  - Large Group slides\n",
    "  - Severance readings\n",
    "  - Know key terms like function call and know how to use it in python (call a function).\n",
    "2. Review the questions we covered at the beginning of each large group.\n",
    "3. Test yourself modifying the code in the questions and tracing the results yourself. \n"
   ]
  },
  {
   "cell_type": "markdown",
   "id": "187f7803",
   "metadata": {},
   "source": [
    "# Code Trace Examples\n",
    "\n",
    "Here are some example code traces similar to what might be on the exam.\n",
    "\n",
    "## Iterations Example\n",
    "What prints on line 10?"
   ]
  },
  {
   "cell_type": "code",
   "execution_count": null,
   "id": "a61e4f1c",
   "metadata": {},
   "outputs": [],
   "source": [
    "# Iterations\n",
    "w = 2\n",
    "j = 6\n",
    "k = 2\n",
    "while k<=j:\n",
    "    j = j + 1\n",
    "    w = w * k\n",
    "    if j >7:\n",
    "        break\n",
    "print(w)"
   ]
  },
  {
   "cell_type": "markdown",
   "id": "a12a6b73",
   "metadata": {},
   "source": [
    "## Function Example\n",
    "what prints on line 9?"
   ]
  },
  {
   "cell_type": "code",
   "execution_count": null,
   "id": "80dc472b",
   "metadata": {},
   "outputs": [],
   "source": [
    "# Function\n",
    "def foo(bar,baz,bing):\n",
    "    w = bar + baz\n",
    "    return bar + bing\n",
    "\n",
    "x = 10\n",
    "y = 5\n",
    "z = foo(y,x,y)\n",
    "print(z)"
   ]
  },
  {
   "cell_type": "markdown",
   "id": "4c084762",
   "metadata": {},
   "source": [
    "## Strings example\n",
    "what prints on line 8?"
   ]
  },
  {
   "cell_type": "code",
   "execution_count": null,
   "id": "9f7b4062",
   "metadata": {},
   "outputs": [],
   "source": [
    "# strings\n",
    "message = \"welcome matt\"\n",
    "m2 = message.replace(\"m\",\"k\")\n",
    "if message.find(\"e\") >= 0:\n",
    "    m3 = m2[3:7]\n",
    "else:\n",
    "    m3 = m2[0:3]\n",
    "print(m3)"
   ]
  },
  {
   "cell_type": "markdown",
   "id": "f6487975",
   "metadata": {},
   "source": [
    "## Files Example\n",
    "if \"file.txt\" contains this data:\n",
    "```\n",
    "2\n",
    "5\n",
    "1\n",
    "```\n",
    "What prints on line 8"
   ]
  },
  {
   "cell_type": "code",
   "execution_count": null,
   "id": "ba15cb96",
   "metadata": {},
   "outputs": [],
   "source": [
    "# files\n",
    "n = \"file.txt\"\n",
    "m = \"r\"\n",
    "x = 0\n",
    "with open (n,m) as q:\n",
    "    for g in q.readlines():\n",
    "           x = x * int(g)\n",
    "print(x)"
   ]
  },
  {
   "cell_type": "markdown",
   "id": "a563c926",
   "metadata": {},
   "source": [
    "## Hybrid Example\n",
    "\n",
    "Iteration + Files + Strings\n",
    "\n",
    "If the contents of `foo.txt` are \n",
    "\n",
    "```\n",
    "suppose\n",
    "```\n",
    "\n",
    "What prints on line 8?"
   ]
  },
  {
   "cell_type": "code",
   "execution_count": null,
   "id": "60587743",
   "metadata": {},
   "outputs": [],
   "source": [
    "with open (\"foo.txt\",\"r\") as x:\n",
    "    y = x.read()\n",
    "    n = 0\n",
    "    for z in y:\n",
    "        if z == 'p':\n",
    "            break\n",
    "        n = n + 1\n",
    "print(y[n:])"
   ]
  },
  {
   "cell_type": "markdown",
   "id": "f1c03c36",
   "metadata": {},
   "source": [
    "## Studying with Chat GPT \n",
    "\n",
    "Ask Chat GPT to write you some code. Use the terminology we learned in class!!!"
   ]
  },
  {
   "cell_type": "code",
   "execution_count": 6,
   "id": "f636fe3c",
   "metadata": {},
   "outputs": [],
   "source": [
    "%%pybot\n",
    "\n",
    "can you provide an example of looping over a string of text?"
   ]
  },
  {
   "cell_type": "code",
   "execution_count": 7,
   "id": "5500bb06",
   "metadata": {},
   "outputs": [
    {
     "name": "stdout",
     "output_type": "stream",
     "text": [
      "h\n",
      "e\n",
      "l\n",
      "l\n",
      "o\n",
      " \n",
      "w\n",
      "o\n",
      "r\n",
      "l\n",
      "d\n"
     ]
    },
    {
     "data": {
      "text/plain": [
       "'\\n```\\nThis code will output:\\n```\\nh\\ne\\nl\\nl\\no\\nw\\no\\nr\\nl\\nd\\n``` \\nIn this example, we define a variable called `text` that contains the string \\n\"hello world\". We then use a `for` loop to iterate over each character in \\nthe string. Inside the loop, we print each character on a separate line. \\nThis effectively \"loops over\" the string and performs some action on each character in turn.\\n'"
      ]
     },
     "execution_count": 7,
     "metadata": {},
     "output_type": "execute_result"
    }
   ],
   "source": [
    "#AI-Generated Output (Tokens: prompt=20, output=133)\n",
    "'''\n",
    "Sure, here's an example of looping over a string of text in Python:\n",
    "```\n",
    "'''\n",
    "text = \"hello world\"\n",
    "for character in text:\n",
    "    print(character)\n",
    "'''\n",
    "```\n",
    "This code will output:\n",
    "```\n",
    "h\n",
    "e\n",
    "l\n",
    "l\n",
    "o\n",
    "w\n",
    "o\n",
    "r\n",
    "l\n",
    "d\n",
    "``` \n",
    "In this example, we define a variable called `text` that contains the string \n",
    "\"hello world\". We then use a `for` loop to iterate over each character in \n",
    "the string. Inside the loop, we print each character on a separate line. \n",
    "This effectively \"loops over\" the string and performs some action on each character in turn.\n",
    "'''"
   ]
  },
  {
   "cell_type": "code",
   "execution_count": 2,
   "id": "13fee330",
   "metadata": {},
   "outputs": [],
   "source": [
    "%%pybot \n",
    "\n",
    "Can you provide an example of a function definition with 2 arguments and an example function call?"
   ]
  },
  {
   "cell_type": "code",
   "execution_count": null,
   "id": "2139a2fb",
   "metadata": {},
   "outputs": [],
   "source": [
    "#AI-Generated Output (Tokens: prompt=26, output=167)\n",
    "'''\n",
    "Sure, here's an example of a function definition with two arguments in Python:\n",
    "```python\n",
    "'''\n",
    "def add_numbers(x, y):\n",
    "    sum = x + y\n",
    "    return sum\n",
    "'''\n",
    "```\n",
    "In this example, the function is called `add_numbers`, and it takes two arguments: `x` and `y`. The function adds these two numbers together and returns their sum.\n",
    "Here's an example function call:\n",
    "```python\n",
    "'''\n",
    "result = add_numbers(3, 5)\n",
    "print(result)\n",
    "\n",
    "'''\n",
    "```\n",
    "In this example, we call the `add_numbers` function with the arguments `3` and `5`. The function adds these two numbers and returns a value of `8`, which we store in the `result` variable. Finally, we print the value of `result` to the console, which outputs `8`.\n",
    "'''"
   ]
  },
  {
   "cell_type": "code",
   "execution_count": 5,
   "id": "c723bd3e",
   "metadata": {},
   "outputs": [],
   "source": [
    "%%pybot \n",
    "\n",
    "Write python code to open a file for reading using the context manager method. Read in a line at a time."
   ]
  },
  {
   "cell_type": "code",
   "execution_count": null,
   "id": "ab6e3ea7",
   "metadata": {},
   "outputs": [],
   "source": [
    "#AI-Generated Output (Tokens: prompt=30, output=220)\n",
    "'''\n",
    "Here's an example code snippet that demonstrates how to open a file in read mode using the context manager method and read in a line at a time:\n",
    "```\n",
    "'''\n",
    "with open('file.txt', 'r') as f:\n",
    "    for line in f:\n",
    "        # do something with each line here\n",
    "        print(line)\n",
    "'''\n",
    "```\n",
    "Here, we first use the `open()` function to open the \"file.txt\" file in read mode. Then, we use a `with` statement \n",
    "to define a context manager for the file, so that it will automatically be closed after we're done with it. \n",
    "Within this context, we use a `for` loop to iterate over each line in the file (`for line in f:`). \n",
    "We can then process each line within the loop as needed (e.g., by printing it, as shown here). \n",
    "Note that the `for` loop implicitly calls the `readline()` method on the file object for each iteration, \n",
    "which reads in the next line of the file. This means that we don't need to manually call `readline()` ourselves.\n",
    "'''"
   ]
  },
  {
   "cell_type": "code",
   "execution_count": null,
   "id": "d2ff0319",
   "metadata": {},
   "outputs": [],
   "source": []
  }
 ],
 "metadata": {
  "kernelspec": {
   "display_name": "Python 3 (ipykernel)",
   "language": "python",
   "name": "python3"
  },
  "language_info": {
   "codemirror_mode": {
    "name": "ipython",
    "version": 3
   },
   "file_extension": ".py",
   "mimetype": "text/x-python",
   "name": "python",
   "nbconvert_exporter": "python",
   "pygments_lexer": "ipython3",
   "version": "3.9.7"
  },
  "varInspector": {
   "cols": {
    "lenName": 16,
    "lenType": 16,
    "lenVar": 40
   },
   "kernels_config": {
    "python": {
     "delete_cmd_postfix": "",
     "delete_cmd_prefix": "del ",
     "library": "var_list.py",
     "varRefreshCmd": "print(var_dic_list())"
    },
    "r": {
     "delete_cmd_postfix": ") ",
     "delete_cmd_prefix": "rm(",
     "library": "var_list.r",
     "varRefreshCmd": "cat(var_dic_list()) "
    }
   },
   "types_to_exclude": [
    "module",
    "function",
    "builtin_function_or_method",
    "instance",
    "_Feature"
   ],
   "window_display": false
  }
 },
 "nbformat": 4,
 "nbformat_minor": 5
}
