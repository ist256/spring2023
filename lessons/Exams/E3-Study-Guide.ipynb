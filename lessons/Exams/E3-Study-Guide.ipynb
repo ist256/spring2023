{
 "cells": [
  {
   "cell_type": "markdown",
   "id": "412c361e",
   "metadata": {},
   "source": [
    "# Exam 3\n",
    "\n",
    "Exam 3 covers these 3 units:\n",
    "\n",
    "- 08 lists\n",
    "  - code: len(), append(), copy(), count(), index(), insert(), pop(), remove(), sort()\n",
    "  - concepts: list slices, creating an empty list, mutable sequence types\n",
    "- 09 dictionaries and JSON\n",
    "  - code: json, json.loads(), json.dumps, keys(), get(), values()\n",
    "  - concepts: mutable mapping type, serialization, deserialization\n",
    "- 10 HTTP Protocol and Network Programming\n",
    "  - code: requests requests.get, requests.post, raise_for_status(), response.text, response.ok, response.json()\n",
    "  - concepts: get, post, header, query string, status code, url, common ways API's are called\n",
    "\n",
    "### Exam Prep\n",
    "\n",
    "1. Make yourself a study guide of the key points from these units, revisit. \n",
    "  - Large Group slides\n",
    "  - Severance readings MY CUSTOM READING ON HTTP IS A MUST\n",
    "  - Know key terms like header, http response.\n",
    "  - Know the list and dict methods\n",
    "2. Review the questions we covered at the beginning of each large group.\n",
    "3. Test yourself modifying the code in the questions and tracing the results yourself. \n"
   ]
  },
  {
   "cell_type": "markdown",
   "id": "187f7803",
   "metadata": {},
   "source": [
    "# Code Trace Examples\n",
    "\n",
    "Here are some example code traces similar to what might be on the exam.\n",
    "\n",
    "## List  Example\n",
    "What prints on line 7,8?"
   ]
  },
  {
   "cell_type": "code",
   "execution_count": null,
   "id": "a61e4f1c",
   "metadata": {},
   "outputs": [],
   "source": [
    "w = [1,2,3]\n",
    "j = [3,4,5]\n",
    "k = []\n",
    "for i in range(len(w)):\n",
    "    k.append(w[i])\n",
    "    k.insert(0, j[i])\n",
    "print(k[-1])\n",
    "print(k[0])"
   ]
  },
  {
   "cell_type": "markdown",
   "id": "a12a6b73",
   "metadata": {},
   "source": [
    "## Dict Example\n",
    "what prints on line 6,7?"
   ]
  },
  {
   "cell_type": "code",
   "execution_count": null,
   "id": "80dc472b",
   "metadata": {},
   "outputs": [],
   "source": [
    "w = {}\n",
    "t = \"mississippi\"\n",
    "for s in t:\n",
    "    w[s] = w.get(s,0) + 1\n",
    "    \n",
    "print(w['p'])\n",
    "print(w['i'])"
   ]
  },
  {
   "cell_type": "markdown",
   "id": "4c084762",
   "metadata": {},
   "source": [
    "## List of Dict example\n",
    "what prints on line 6,7,8,9?"
   ]
  },
  {
   "cell_type": "code",
   "execution_count": null,
   "id": "9f7b4062",
   "metadata": {},
   "outputs": [],
   "source": [
    "n = [\n",
    "    {'a' : 'wetd', 'b': [3,4,6,8]},\n",
    "    {'a' : 'wetd', 'b': [3,4,6,8], 'c': 8},\n",
    "    {'a' : 'wetd', 'c': 6}    \n",
    "]\n",
    "print(n[0]['a'][2])\n",
    "print(n[-1]['c'])\n",
    "print(n[1]['b'][1])\n",
    "print(n[0]['b'][-1])"
   ]
  },
  {
   "cell_type": "markdown",
   "id": "f6487975",
   "metadata": {},
   "source": [
    "## Requests Example\n",
    "\n",
    "The HTTP response from the api call is:\n",
    "```\n",
    "{ 'data' : [ {'item' : 5}, {'item': 7, 'value' : 's'} ] }\n",
    "```\n",
    "\n",
    "What prints on line 7,8,9? (NOTE: You can't run this code)"
   ]
  },
  {
   "cell_type": "code",
   "execution_count": null,
   "id": "ba15cb96",
   "metadata": {},
   "outputs": [],
   "source": [
    "import requests\n",
    "y = { 'a' : 4}\n",
    "x = {'x' : \"y\" }\n",
    "response = requests.get(\"https://somesite.com\", params=y, headers=x)\n",
    "response.raise_for_status()\n",
    "data = response.json()\n",
    "print(data[0]['item'])\n",
    "print(data['data'][-1]['item'])\n",
    "print(data['data'][3]['item'])"
   ]
  },
  {
   "cell_type": "markdown",
   "id": "a563c926",
   "metadata": {},
   "source": [
    "## Concepts\n",
    "\n",
    "For the code above\n",
    "\n",
    "1. Which status_code would constitute an error? 201? 401? 302? 202?\n",
    "2. For the code above what does the `response.url` look like? https://somesite.com/?x=y or https://somesite.com/?a=4\n"
   ]
  },
  {
   "cell_type": "code",
   "execution_count": null,
   "id": "f636fe3c",
   "metadata": {},
   "outputs": [],
   "source": []
  }
 ],
 "metadata": {
  "kernelspec": {
   "display_name": "Python 3 (ipykernel)",
   "language": "python",
   "name": "python3"
  },
  "language_info": {
   "codemirror_mode": {
    "name": "ipython",
    "version": 3
   },
   "file_extension": ".py",
   "mimetype": "text/x-python",
   "name": "python",
   "nbconvert_exporter": "python",
   "pygments_lexer": "ipython3",
   "version": "3.9.7"
  },
  "varInspector": {
   "cols": {
    "lenName": 16,
    "lenType": 16,
    "lenVar": 40
   },
   "kernels_config": {
    "python": {
     "delete_cmd_postfix": "",
     "delete_cmd_prefix": "del ",
     "library": "var_list.py",
     "varRefreshCmd": "print(var_dic_list())"
    },
    "r": {
     "delete_cmd_postfix": ") ",
     "delete_cmd_prefix": "rm(",
     "library": "var_list.r",
     "varRefreshCmd": "cat(var_dic_list()) "
    }
   },
   "types_to_exclude": [
    "module",
    "function",
    "builtin_function_or_method",
    "instance",
    "_Feature"
   ],
   "window_display": false
  }
 },
 "nbformat": 4,
 "nbformat_minor": 5
}
