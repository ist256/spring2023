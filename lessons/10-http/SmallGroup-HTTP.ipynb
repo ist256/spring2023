{
 "cells": [
  {
   "cell_type": "markdown",
   "metadata": {},
   "source": [
    "# Now You Code In Class: Google Places API\n",
    "\n",
    "For this Now You Code, you will need the IST256 Google Places api https://api.ist256.com/ which we will use to access to local area restaurant information. **Your instructor will provide you with an API key**\n",
    "\n",
    "Let's write a program to do the following\n",
    "\n",
    "    1. input the city you're travelling to\n",
    "    2. input the place type you are searching for: lodging, restaurant, museum, stadium,  university\n",
    "    3. Use the /google/geocode API to get GPS coordinates for the city\n",
    "    4. Use the /google/places/search API to get place types in the city\n",
    "\n",
    "Let's follow the best practices from the lab and write each API call as a function once we get it working.\n",
    "\n",
    "We will take a **top down** approach, since we have a basic algorithm\n",
    "\n",
    "In your algorithm, frame your steps based on how the API must be used to complete the task. "
   ]
  },
  {
   "cell_type": "markdown",
   "metadata": {
    "collapsed": true
   },
   "source": [
    "# Top-Down \n",
    "\n",
    "    Step 1 - Trivial\n",
    "    Step 2 - Trivial\n",
    "    Step 3 - Call the /google/geocode API\n",
    "    Step 4 - Call the /google/places/search  API\n",
    "    \n",
    "    \n",
    "    \n",
    "https://api.ist256.com  -- read the docs together!\n",
    "\n",
    "# Steps 1 and 2"
   ]
  },
  {
   "cell_type": "code",
   "execution_count": null,
   "metadata": {},
   "outputs": [],
   "source": [
    "import requests\n",
    "google_api_key = \"751838d6b9978955679461c80a7df60bde4f093d\" # set this in this cell one time!\n",
    "\n",
    "\n"
   ]
  },
  {
   "cell_type": "code",
   "execution_count": 1,
   "metadata": {},
   "outputs": [],
   "source": [
    "%%pybot\n",
    "\n",
    "turn this curl into python requests\n",
    "\n",
    "curl -X 'GET' \\\n",
    "  'https://api.ist256.com/google/geocode?location=JMA%20Wireless%20Dome' \\\n",
    "  -H 'accept: application/json' \\\n",
    "  -H 'Api-Key: 751838d6b9978955679461c80a7df60bde4f093d'"
   ]
  },
  {
   "cell_type": "code",
   "execution_count": 5,
   "metadata": {},
   "outputs": [
    {
     "data": {
      "text/plain": [
       "{'results': [{'address_components': [{'long_name': '900',\n",
       "     'short_name': '900',\n",
       "     'types': ['street_number']},\n",
       "    {'long_name': 'Irving Avenue',\n",
       "     'short_name': 'Irving Ave',\n",
       "     'types': ['route']},\n",
       "    {'long_name': 'Eastside',\n",
       "     'short_name': 'Eastside',\n",
       "     'types': ['neighborhood', 'political']},\n",
       "    {'long_name': 'Syracuse',\n",
       "     'short_name': 'Syracuse',\n",
       "     'types': ['locality', 'political']},\n",
       "    {'long_name': 'Onondaga County',\n",
       "     'short_name': 'Onondaga County',\n",
       "     'types': ['administrative_area_level_2', 'political']},\n",
       "    {'long_name': 'New York',\n",
       "     'short_name': 'NY',\n",
       "     'types': ['administrative_area_level_1', 'political']},\n",
       "    {'long_name': 'United States',\n",
       "     'short_name': 'US',\n",
       "     'types': ['country', 'political']},\n",
       "    {'long_name': '13244', 'short_name': '13244', 'types': ['postal_code']}],\n",
       "   'formatted_address': '900 Irving Ave, Syracuse, NY 13244, USA',\n",
       "   'geometry': {'location': {'lat': 43.036233, 'lng': -76.1362931},\n",
       "    'location_type': 'ROOFTOP',\n",
       "    'viewport': {'northeast': {'lat': 43.0375907302915, 'lng': -76.1354248},\n",
       "     'southwest': {'lat': 43.0348927697085, 'lng': -76.1381748}}},\n",
       "   'partial_match': True,\n",
       "   'place_id': 'ChIJQ8K5Npnz2YkRZof_3BalOvo',\n",
       "   'plus_code': {'compound_code': '2VP7+FF Syracuse, NY',\n",
       "    'global_code': '87M52VP7+FF'},\n",
       "   'types': ['establishment', 'point_of_interest', 'stadium']}],\n",
       " 'status': 'OK'}"
      ]
     },
     "execution_count": 5,
     "metadata": {},
     "output_type": "execute_result"
    }
   ],
   "source": [
    "#AI-Generated Output (Tokens: prompt=90, output=81)\n",
    "import requests\n",
    "url = 'https://api.ist256.com/google/geocode'\n",
    "params = {'location': 'JMA Wireless Dome'}\n",
    "headers = {'accept': 'application/json', 'Api-Key': '751838d6b9978955679461c80a7df60bde4f093d'}\n",
    "response = requests.get(url, params=params, headers=headers)\n",
    "response.raise_for_status()\n",
    "results = response.json()\n",
    "\n",
    "results\n"
   ]
  },
  {
   "cell_type": "code",
   "execution_count": 14,
   "metadata": {},
   "outputs": [
    {
     "data": {
      "text/plain": [
       "{'lat': 43.036233, 'lng': -76.1362931}"
      ]
     },
     "execution_count": 14,
     "metadata": {},
     "output_type": "execute_result"
    }
   ],
   "source": [
    "results['results'][0]['geometry']['location']"
   ]
  },
  {
   "cell_type": "markdown",
   "metadata": {},
   "source": [
    "## Step 3a - Inputs and outputs for /google/geocode API\n",
    "\n",
    "Let's go to https://api.ist256.com/ and call the /google/geocode API from there. what are the inputs and outputs?\n",
    "\n",
    "    ENDPOINT: What is the full URL to the API endpoint?\n",
    "    \n",
    "        PROMPT 1\n",
    "        \n",
    "    REQUEST METHOD: What is the HTTP request method used?\n",
    "    \n",
    "        PROMPT 2\n",
    "\n",
    "    INPUTS: (what do we need to make the API work?)\n",
    "    \n",
    "        PROMPT 3\n",
    "        \n",
    "    OUTPUTS: (what do we require for the next step)\n",
    "    \n",
    "        PROMPT 4\n",
    "\n",
    "    ALGORITHM: (to call any api with HTTP GET)\n",
    "    \n",
    "        1. build the request endpoint, header and query string\n",
    "        2. call the API using requests.get\n",
    "        3. de-serialize the JSON response to a python object data structure\n",
    "        4. extract what you need fro the python object data structureion"
   ]
  },
  {
   "cell_type": "code",
   "execution_count": null,
   "metadata": {},
   "outputs": [],
   "source": [
    "# PROMPT 5\n",
    "\n",
    "url = 'https://api.ist256.com/google/geocode' # ENDPOINT\n",
    "params = {'location': 'JMA Wireless Dome'} # INPUT (Query String)\n",
    "headers = {'accept': 'application/json', \n",
    "           'Api-Key': '751838d6b9978955679461c80a7df60bde4f093d'} #INPUT (Header)\n",
    "response = requests.get(url, params=params, headers=headers) # Method GET\n",
    "response.raise_for_status()\n",
    "results = response.json()\n",
    "results['results'][0]['geometry']['location']  #OUTPUT\n"
   ]
  },
  {
   "cell_type": "markdown",
   "metadata": {},
   "source": [
    "## Step 3b: Refactor into function `googleGeocode()`"
   ]
  },
  {
   "cell_type": "code",
   "execution_count": 15,
   "metadata": {},
   "outputs": [],
   "source": [
    "# PROMPT 6 - refactor the code in prompt 5 into a function\n",
    "#INPUTS: location, OUTPUTS: lat/lon\n",
    "\n",
    "def googleGeocode(location):\n",
    "        \n",
    "    url = 'https://api.ist256.com/google/geocode' # ENDPOINT\n",
    "    params = {'location': location } # INPUT (Query String)\n",
    "    headers = {'accept': 'application/json', \n",
    "               'Api-Key': '751838d6b9978955679461c80a7df60bde4f093d'} #INPUT (Header)\n",
    "    response = requests.get(url, params=params, headers=headers) # Method GET\n",
    "    response.raise_for_status()\n",
    "    results = response.json()\n",
    "    lat_lon = results['results'][0]['geometry']['location']  #OUTPUT\n",
    "\n",
    "    return lat_lon"
   ]
  },
  {
   "cell_type": "markdown",
   "metadata": {},
   "source": [
    "## Step 3c: `googleGeocode()` Test: Call the function"
   ]
  },
  {
   "cell_type": "code",
   "execution_count": 16,
   "metadata": {},
   "outputs": [
    {
     "data": {
      "text/plain": [
       "{'lat': 43.0481221, 'lng': -76.14742439999999}"
      ]
     },
     "execution_count": 16,
     "metadata": {},
     "output_type": "execute_result"
    }
   ],
   "source": [
    "# PROMPT 7 - call your function using 'Syracuse, NY' as the argument\n",
    "googleGeocode(\"Syracuse, NY\")"
   ]
  },
  {
   "cell_type": "code",
   "execution_count": 18,
   "metadata": {},
   "outputs": [
    {
     "data": {
      "text/plain": [
       "{'lat': 51.4933675, 'lng': 0.0098214}"
      ]
     },
     "execution_count": 18,
     "metadata": {},
     "output_type": "execute_result"
    }
   ],
   "source": [
    "googleGeocode(\"Greenwich, UK\")"
   ]
  },
  {
   "cell_type": "markdown",
   "metadata": {},
   "source": [
    "## Step 4a - Inputs and outputs for /google/places/search API\n",
    "\n",
    "Let's go to https://api.ist256.com/ and call the /google/places/search API from there. what are the inputs and outputs?\n",
    "\n",
    "    ENDPOINT: What is the full URL to the API endpoint?\n",
    "    \n",
    "        PROMPT 8\n",
    "        \n",
    "    REQUEST METHOD: What is the HTTP request method used?\n",
    "    \n",
    "        PROMPT 9\n",
    "\n",
    "    INPUTS: (what do we need to make the API work?)\n",
    "    \n",
    "        PROMPT 10\n",
    "        \n",
    "    OUTPUTS: (what do we require for the next step)\n",
    "    \n",
    "        PROMPT 11\n",
    "\n",
    "    ALGORITHM AGAIN: (to call any api with HTTP GET)\n",
    "    \n",
    "        1. build the request endpoint, header and query string\n",
    "        2. call the API using requests.get\n",
    "        3. de-serialize the JSON response to a python object data structure\n",
    "        4. extract what you need fro the python object data structure"
   ]
  },
  {
   "cell_type": "code",
   "execution_count": 23,
   "metadata": {},
   "outputs": [
    {
     "data": {
      "text/plain": [
       "[{'business_status': 'OPERATIONAL',\n",
       "  'geometry': {'location': {'lat': 43.0506337, 'lng': -76.1561464},\n",
       "   'viewport': {'northeast': {'lat': 43.05196007989271,\n",
       "     'lng': -76.15476717010728},\n",
       "    'southwest': {'lat': 43.04926042010727, 'lng': -76.15746682989273}}},\n",
       "  'icon': 'https://maps.gstatic.com/mapfiles/place_api/icons/v1/png_71/restaurant-71.png',\n",
       "  'icon_background_color': '#FF9E67',\n",
       "  'icon_mask_base_uri': 'https://maps.gstatic.com/mapfiles/place_api/icons/v2/restaurant_pinlet',\n",
       "  'name': 'Guadalajara Mexican restaurant',\n",
       "  'opening_hours': {'open_now': True},\n",
       "  'photos': [{'height': 3024,\n",
       "    'html_attributions': ['<a href=\"https://maps.google.com/maps/contrib/107509540678491209190\">Jennifer VanDyke</a>'],\n",
       "    'photo_reference': 'AUjq9jk_c-69FC8XvzUGB31Z3ZSuSNSDEUZpcp0cOk1U4dI1v4mK4CkGZ9j-uTcymLbY02Amlq0S-BeBVt_oif7sFDB5a_8xptZf-CSZdhQjAysFpxYubdhKRVMyNeGSQSYMJx36lVHntN5X8CI4gAOktccEORCPRZwFpniUVp6MzAQ8LWeF',\n",
       "    'width': 4032}],\n",
       "  'place_id': 'ChIJF_wjXYXz2YkRD1KtoDrCTWU',\n",
       "  'plus_code': {'compound_code': '3R2V+7C Syracuse, New York',\n",
       "   'global_code': '87M53R2V+7C'},\n",
       "  'price_level': 2,\n",
       "  'rating': 4.6,\n",
       "  'reference': 'ChIJF_wjXYXz2YkRD1KtoDrCTWU',\n",
       "  'scope': 'GOOGLE',\n",
       "  'types': ['restaurant', 'food', 'point_of_interest', 'establishment'],\n",
       "  'user_ratings_total': 262,\n",
       "  'vicinity': '324 W Water St, Syracuse'},\n",
       " {'business_status': 'OPERATIONAL',\n",
       "  'geometry': {'location': {'lat': 43.0478707, 'lng': -76.1557672},\n",
       "   'viewport': {'northeast': {'lat': 43.04924317989272,\n",
       "     'lng': -76.15440422010727},\n",
       "    'southwest': {'lat': 43.04654352010727, 'lng': -76.1571038798927}}},\n",
       "  'icon': 'https://maps.gstatic.com/mapfiles/place_api/icons/v1/png_71/restaurant-71.png',\n",
       "  'icon_background_color': '#FF9E67',\n",
       "  'icon_mask_base_uri': 'https://maps.gstatic.com/mapfiles/place_api/icons/v2/restaurant_pinlet',\n",
       "  'name': 'Margaritas Mexican Cantina',\n",
       "  'opening_hours': {'open_now': True},\n",
       "  'photos': [{'height': 3024,\n",
       "    'html_attributions': ['<a href=\"https://maps.google.com/maps/contrib/108186431369189209967\">HKN90</a>'],\n",
       "    'photo_reference': 'AUjq9jn7_aSYUfBDgOdTAEnpVpyvMEQld58hjGTr4Yi9yQ27Lpsecd0jTbwBqGR5CSTdg3m8QVDo4kkEHzJBEM4GdMbMAJ6UqvTG9arUC7j2ImplDBgc0bFNorcTqftRs_PQivDwHy7h1y1KXSxHHmJ_LnJ31fspLUJ0TKxwSfZ22BqPJQUl',\n",
       "    'width': 3024}],\n",
       "  'place_id': 'ChIJA0yvTgHz2YkR3d9Li0RUeFA',\n",
       "  'plus_code': {'compound_code': '2RXV+4P Syracuse, New York',\n",
       "   'global_code': '87M52RXV+4P'},\n",
       "  'price_level': 2,\n",
       "  'rating': 4.3,\n",
       "  'reference': 'ChIJA0yvTgHz2YkR3d9Li0RUeFA',\n",
       "  'scope': 'GOOGLE',\n",
       "  'types': ['bar', 'restaurant', 'food', 'point_of_interest', 'establishment'],\n",
       "  'user_ratings_total': 985,\n",
       "  'vicinity': '203 Walton St, Syracuse'},\n",
       " {'business_status': 'OPERATIONAL',\n",
       "  'geometry': {'location': {'lat': 43.0487742, 'lng': -76.141043},\n",
       "   'viewport': {'northeast': {'lat': 43.05001182989272,\n",
       "     'lng': -76.13969832010729},\n",
       "    'southwest': {'lat': 43.04731217010728, 'lng': -76.14239797989272}}},\n",
       "  'icon': 'https://maps.gstatic.com/mapfiles/place_api/icons/v1/png_71/restaurant-71.png',\n",
       "  'icon_background_color': '#FF9E67',\n",
       "  'icon_mask_base_uri': 'https://maps.gstatic.com/mapfiles/place_api/icons/v2/restaurant_pinlet',\n",
       "  'name': 'XO Taco',\n",
       "  'opening_hours': {'open_now': True},\n",
       "  'photos': [{'height': 4000,\n",
       "    'html_attributions': ['<a href=\"https://maps.google.com/maps/contrib/106396263657986486281\">Jennifer O</a>'],\n",
       "    'photo_reference': 'AUjq9jlyFt1_Wfl5ChhMD7dFlsFNcQbbIDhiFoQamMXyWU8YOs9pK0rCDuNIillud4CNY62i8HOm4wjOIkGB1g3UNU9X_JXKCK4smSzXmGN3rUmNqvmLarKIq9Z86Fwp3AE7FPXhI9eYsdJDFdJc6nZR62xWjpl6PHYTd1em3cQK4zKjxKhk',\n",
       "    'width': 3000}],\n",
       "  'place_id': 'ChIJyXyuGlbz2YkR5dv3vgWYWdY',\n",
       "  'plus_code': {'compound_code': '2VX5+GH Syracuse, New York',\n",
       "   'global_code': '87M52VX5+GH'},\n",
       "  'rating': 4.4,\n",
       "  'reference': 'ChIJyXyuGlbz2YkR5dv3vgWYWdY',\n",
       "  'scope': 'GOOGLE',\n",
       "  'types': ['bar', 'restaurant', 'food', 'point_of_interest', 'establishment'],\n",
       "  'user_ratings_total': 653,\n",
       "  'vicinity': '713 E Fayette St, Syracuse'},\n",
       " {'business_status': 'OPERATIONAL',\n",
       "  'geometry': {'location': {'lat': 43.0493254, 'lng': -76.1510004},\n",
       "   'viewport': {'northeast': {'lat': 43.05067292989272,\n",
       "     'lng': -76.14955582010728},\n",
       "    'southwest': {'lat': 43.04797327010728, 'lng': -76.15225547989272}}},\n",
       "  'icon': 'https://maps.gstatic.com/mapfiles/place_api/icons/v1/png_71/restaurant-71.png',\n",
       "  'icon_background_color': '#FF9E67',\n",
       "  'icon_mask_base_uri': 'https://maps.gstatic.com/mapfiles/place_api/icons/v2/restaurant_pinlet',\n",
       "  'name': 'Otro Cinco',\n",
       "  'opening_hours': {'open_now': False},\n",
       "  'photos': [{'height': 3024,\n",
       "    'html_attributions': ['<a href=\"https://maps.google.com/maps/contrib/103474386733240853491\">Matt Jones</a>'],\n",
       "    'photo_reference': 'AUjq9jn4r88FRyX8C0LjnSPtXuW0nl0LcZ0IjsR9ZT0WV7zDB6pK9D-5kzBqqGIZ81zEW8LBQvOTqGRfPlqd1n8khJG7g8TnmqkwDgYMfHua2dpfIVQr2M0SOM3dXDkHd8C_oAHcJmMyxCOzfBM9itxILDSSAsFq2hOZ3B3kQeyLTIMabVOV',\n",
       "    'width': 4032}],\n",
       "  'place_id': 'ChIJr6nBDLnz2YkRY7oe6kMDzZk',\n",
       "  'plus_code': {'compound_code': '2RXX+PH Syracuse, New York',\n",
       "   'global_code': '87M52RXX+PH'},\n",
       "  'price_level': 2,\n",
       "  'rating': 4.5,\n",
       "  'reference': 'ChIJr6nBDLnz2YkRY7oe6kMDzZk',\n",
       "  'scope': 'GOOGLE',\n",
       "  'types': ['bar',\n",
       "   'meal_takeaway',\n",
       "   'restaurant',\n",
       "   'food',\n",
       "   'point_of_interest',\n",
       "   'establishment'],\n",
       "  'user_ratings_total': 1028,\n",
       "  'vicinity': '206 S Warren St, Syracuse'},\n",
       " {'business_status': 'OPERATIONAL',\n",
       "  'geometry': {'location': {'lat': 43.0616786, 'lng': -76.15003589999999},\n",
       "   'viewport': {'northeast': {'lat': 43.06298777989272,\n",
       "     'lng': -76.14873882010727},\n",
       "    'southwest': {'lat': 43.06028812010728, 'lng': -76.1514384798927}}},\n",
       "  'icon': 'https://maps.gstatic.com/mapfiles/place_api/icons/v1/png_71/restaurant-71.png',\n",
       "  'icon_background_color': '#FF9E67',\n",
       "  'icon_mask_base_uri': 'https://maps.gstatic.com/mapfiles/place_api/icons/v2/restaurant_pinlet',\n",
       "  'name': 'Mi Casita Restaurant',\n",
       "  'opening_hours': {'open_now': True},\n",
       "  'photos': [{'height': 1836,\n",
       "    'html_attributions': ['<a href=\"https://maps.google.com/maps/contrib/113287233003105440285\">Kimberly Ruiz</a>'],\n",
       "    'photo_reference': 'AUjq9jngOPriU6Yu9UT3q_mPeCo1lWQDeZsvnP3fvXqKPyA_bKC7FWaLa3Aa5C0t04TNCNEsBcflzQvoaajaOGZJ3h1bnhdoCqRNWQxkg_UXYEQHTuXJXDeMX7kXh7ziAmhgK_bCY6HjGRLAcBdo5vB9_YtNDyolt8DD_3Wm4gPtM5G8c9Ir',\n",
       "    'width': 3264}],\n",
       "  'place_id': 'ChIJV1GbTUvy2YkRTtr26Z6rDBY',\n",
       "  'plus_code': {'compound_code': '3R6X+MX Syracuse, New York',\n",
       "   'global_code': '87M53R6X+MX'},\n",
       "  'price_level': 1,\n",
       "  'rating': 4.6,\n",
       "  'reference': 'ChIJV1GbTUvy2YkRTtr26Z6rDBY',\n",
       "  'scope': 'GOOGLE',\n",
       "  'types': ['restaurant', 'food', 'point_of_interest', 'establishment'],\n",
       "  'user_ratings_total': 517,\n",
       "  'vicinity': '1614 Lodi St, Syracuse'},\n",
       " {'business_status': 'OPERATIONAL',\n",
       "  'geometry': {'location': {'lat': 43.0402807, 'lng': -76.1609871},\n",
       "   'viewport': {'northeast': {'lat': 43.04170487989273,\n",
       "     'lng': -76.15953797010728},\n",
       "    'southwest': {'lat': 43.03900522010728, 'lng': -76.16223762989272}}},\n",
       "  'icon': 'https://maps.gstatic.com/mapfiles/place_api/icons/v1/png_71/restaurant-71.png',\n",
       "  'icon_background_color': '#FF9E67',\n",
       "  'icon_mask_base_uri': 'https://maps.gstatic.com/mapfiles/place_api/icons/v2/restaurant_pinlet',\n",
       "  'name': 'Cooperativa Las Comadres',\n",
       "  'place_id': 'ChIJEbgR9R_z2YkR0srTHLUsPEI',\n",
       "  'plus_code': {'compound_code': '2RRQ+4J Syracuse, New York',\n",
       "   'global_code': '87M52RRQ+4J'},\n",
       "  'rating': 5,\n",
       "  'reference': 'ChIJEbgR9R_z2YkR0srTHLUsPEI',\n",
       "  'scope': 'GOOGLE',\n",
       "  'types': ['meal_takeaway',\n",
       "   'restaurant',\n",
       "   'food',\n",
       "   'point_of_interest',\n",
       "   'establishment'],\n",
       "  'user_ratings_total': 2,\n",
       "  'vicinity': '208 Slocum Ave, Syracuse'},\n",
       " {'business_status': 'OPERATIONAL',\n",
       "  'geometry': {'location': {'lat': 43.0432639, 'lng': -76.16454019999999},\n",
       "   'viewport': {'northeast': {'lat': 43.04455007989272,\n",
       "     'lng': -76.16318492010728},\n",
       "    'southwest': {'lat': 43.04185042010728, 'lng': -76.16588457989273}}},\n",
       "  'icon': 'https://maps.gstatic.com/mapfiles/place_api/icons/v1/png_71/restaurant-71.png',\n",
       "  'icon_background_color': '#FF9E67',\n",
       "  'icon_mask_base_uri': 'https://maps.gstatic.com/mapfiles/place_api/icons/v2/restaurant_pinlet',\n",
       "  'name': 'Restaurant La Esperanza',\n",
       "  'place_id': 'ChIJlddEN-jz2YkRmdyWJHO_y7g',\n",
       "  'plus_code': {'compound_code': '2RVP+85 Syracuse, New York',\n",
       "   'global_code': '87M52RVP+85'},\n",
       "  'rating': 0,\n",
       "  'reference': 'ChIJlddEN-jz2YkRmdyWJHO_y7g',\n",
       "  'scope': 'GOOGLE',\n",
       "  'types': ['restaurant', 'food', 'point_of_interest', 'establishment'],\n",
       "  'user_ratings_total': 0,\n",
       "  'vicinity': '512 Gifford St, Syracuse'},\n",
       " {'business_status': 'OPERATIONAL',\n",
       "  'geometry': {'location': {'lat': 43.0418336, 'lng': -76.1358542},\n",
       "   'viewport': {'northeast': {'lat': 43.04307972989272,\n",
       "     'lng': -76.13450887010728},\n",
       "    'southwest': {'lat': 43.04038007010727, 'lng': -76.13720852989273}}},\n",
       "  'icon': 'https://maps.gstatic.com/mapfiles/place_api/icons/v1/png_71/restaurant-71.png',\n",
       "  'icon_background_color': '#FF9E67',\n",
       "  'icon_mask_base_uri': 'https://maps.gstatic.com/mapfiles/place_api/icons/v2/restaurant_pinlet',\n",
       "  'name': 'Chipotle Mexican Grill',\n",
       "  'opening_hours': {'open_now': True},\n",
       "  'photos': [{'height': 4032,\n",
       "    'html_attributions': ['<a href=\"https://maps.google.com/maps/contrib/102178337831444206920\">Joe Tschopp</a>'],\n",
       "    'photo_reference': 'AUjq9jkD8QVuVYGTy569eunAaXLmjuth4Tr0SeIgGavphVa0vQidaOXhtqaQusxOECX1g9nXiie447EzNhkGBdvQg4s0iihQkwXy1ht_xxUYnmgkS1rACUt3-AuyJw-AD5gOfwp3GY63ynP8mWWLPn9Rdok-8aZZzLvrv_UWP0x3wDX0sv8',\n",
       "    'width': 3024}],\n",
       "  'place_id': 'ChIJ4dSQxqHz2YkR5mol6GUNmRI',\n",
       "  'plus_code': {'compound_code': '2VR7+PM Syracuse, New York',\n",
       "   'global_code': '87M52VR7+PM'},\n",
       "  'price_level': 1,\n",
       "  'rating': 3.6,\n",
       "  'reference': 'ChIJ4dSQxqHz2YkR5mol6GUNmRI',\n",
       "  'scope': 'GOOGLE',\n",
       "  'types': ['restaurant', 'food', 'point_of_interest', 'establishment'],\n",
       "  'user_ratings_total': 616,\n",
       "  'vicinity': '129 Marshall St, Syracuse'},\n",
       " {'business_status': 'OPERATIONAL',\n",
       "  'geometry': {'location': {'lat': 43.0482184, 'lng': -76.1564095},\n",
       "   'viewport': {'northeast': {'lat': 43.04945147989272,\n",
       "     'lng': -76.15505492010728},\n",
       "    'southwest': {'lat': 43.04675182010728, 'lng': -76.15775457989272}}},\n",
       "  'icon': 'https://maps.gstatic.com/mapfiles/place_api/icons/v1/png_71/restaurant-71.png',\n",
       "  'icon_background_color': '#FF9E67',\n",
       "  'icon_mask_base_uri': 'https://maps.gstatic.com/mapfiles/place_api/icons/v2/restaurant_pinlet',\n",
       "  'name': 'Decir Algo',\n",
       "  'opening_hours': {'open_now': True},\n",
       "  'photos': [{'height': 4096,\n",
       "    'html_attributions': ['<a href=\"https://maps.google.com/maps/contrib/111342475301802849380\">Casey Masters</a>'],\n",
       "    'photo_reference': 'AUjq9jliJo93yRVTpSfjbeXghAAdvgd8WCyPdOOvp4chJHDUkRa0gPJfkZne-BmzxHJ8WtHlJyaSp_5ZvqwCfUkML2YhJLqk3T4iLsNVnVIuUO5REf3RXo2C7kOLG_6bNxAD2-gaTxqIuMRERgm9o6GpUvWwvbxJyO6BvumIcfACQIFUsEFD',\n",
       "    'width': 3072}],\n",
       "  'place_id': 'ChIJs5mQzAnz2YkRnPiUozkrqK0',\n",
       "  'plus_code': {'compound_code': '2RXV+7C Syracuse, New York',\n",
       "   'global_code': '87M52RXV+7C'},\n",
       "  'rating': 2.8,\n",
       "  'reference': 'ChIJs5mQzAnz2YkRnPiUozkrqK0',\n",
       "  'scope': 'GOOGLE',\n",
       "  'types': ['restaurant', 'food', 'point_of_interest', 'establishment'],\n",
       "  'user_ratings_total': 9,\n",
       "  'vicinity': '216 Walton St, Syracuse'},\n",
       " {'business_status': 'OPERATIONAL',\n",
       "  'geometry': {'location': {'lat': 43.0425401, 'lng': -76.1602724},\n",
       "   'viewport': {'northeast': {'lat': 43.04388717989272,\n",
       "     'lng': -76.15898282010725},\n",
       "    'southwest': {'lat': 43.04118752010728, 'lng': -76.1616824798927}}},\n",
       "  'icon': 'https://maps.gstatic.com/mapfiles/place_api/icons/v1/png_71/restaurant-71.png',\n",
       "  'icon_background_color': '#FF9E67',\n",
       "  'icon_mask_base_uri': 'https://maps.gstatic.com/mapfiles/place_api/icons/v2/restaurant_pinlet',\n",
       "  'name': 'El Trailer del Sabor',\n",
       "  'photos': [{'height': 4032,\n",
       "    'html_attributions': ['<a href=\"https://maps.google.com/maps/contrib/113692392201306847843\">A Google User</a>'],\n",
       "    'photo_reference': 'AUjq9jkmujceeFODGLYYh9o4paMxXsfJ6IsUUd9tUnSXluj9y7DorN5cv-pdyPMOaw0yOstPBBLaRi3DXlCk97Q2WufZD9LHxF0h_qnkYc_wT6r4jhikl7drx7yCEE7G963T0rMLk93atLA4GwvD4gjUrtMPRmkjLRLvKh4qz90zCPTyshbx',\n",
       "    'width': 3024}],\n",
       "  'place_id': 'ChIJITb9jZDz2YkRcCCZiHm7-SA',\n",
       "  'plus_code': {'compound_code': '2RVQ+2V Syracuse, New York',\n",
       "   'global_code': '87M52RVQ+2V'},\n",
       "  'rating': 5,\n",
       "  'reference': 'ChIJITb9jZDz2YkRcCCZiHm7-SA',\n",
       "  'scope': 'GOOGLE',\n",
       "  'types': ['restaurant', 'food', 'point_of_interest', 'establishment'],\n",
       "  'user_ratings_total': 2,\n",
       "  'vicinity': 'Corner of Seymour st and, Niagara St, Syracuse'}]"
      ]
     },
     "execution_count": 23,
     "metadata": {},
     "output_type": "execute_result"
    }
   ],
   "source": [
    "# PROMPT 12 - Code again!!!\n",
    "\n",
    "# geocoded Syracuse, NY for you....\n",
    "lat = 43.0481  \n",
    "lng = -76.1474\n",
    "place_type = 'restaurant' \n",
    "search = 'burrito'\n",
    "\n",
    "url = 'https://api.ist256.com/google/places/search' # ENDPOINT\n",
    "params = { 'keyword' : search, \n",
    "          'type' : place_type, \n",
    "          'lat' : lat, \n",
    "          'lng' : lng } # INPUT (Query String)\n",
    "headers = {'accept': 'application/json', \n",
    "           'Api-Key': '751838d6b9978955679461c80a7df60bde4f093d'} #INPUT (Header)\n",
    "response = requests.get(url, params=params, headers=headers) # Method GET\n",
    "response.raise_for_status()\n",
    "results = response.json()\n",
    "results['results']  #OUTPUT\n",
    "\n",
    "\n"
   ]
  },
  {
   "cell_type": "code",
   "execution_count": 25,
   "metadata": {},
   "outputs": [
    {
     "name": "stdout",
     "output_type": "stream",
     "text": [
      "Guadalajara Mexican restaurant {'open_now': True}\n",
      "Margaritas Mexican Cantina {'open_now': True}\n",
      "XO Taco {'open_now': True}\n",
      "Otro Cinco {'open_now': False}\n",
      "Mi Casita Restaurant {'open_now': True}\n"
     ]
    },
    {
     "ename": "KeyError",
     "evalue": "'opening_hours'",
     "output_type": "error",
     "traceback": [
      "\u001b[0;31m---------------------------------------------------------------------------\u001b[0m",
      "\u001b[0;31mKeyError\u001b[0m                                  Traceback (most recent call last)",
      "\u001b[0;32m/tmp/ipykernel_148/1073279105.py\u001b[0m in \u001b[0;36m<module>\u001b[0;34m\u001b[0m\n\u001b[1;32m      1\u001b[0m \u001b[0;32mfor\u001b[0m \u001b[0mr\u001b[0m \u001b[0;32min\u001b[0m \u001b[0mresults\u001b[0m\u001b[0;34m[\u001b[0m\u001b[0;34m'results'\u001b[0m\u001b[0;34m]\u001b[0m\u001b[0;34m:\u001b[0m\u001b[0;34m\u001b[0m\u001b[0;34m\u001b[0m\u001b[0m\n\u001b[0;32m----> 2\u001b[0;31m     \u001b[0mprint\u001b[0m\u001b[0;34m(\u001b[0m\u001b[0mr\u001b[0m\u001b[0;34m[\u001b[0m\u001b[0;34m'name'\u001b[0m\u001b[0;34m]\u001b[0m\u001b[0;34m,\u001b[0m \u001b[0mr\u001b[0m\u001b[0;34m[\u001b[0m\u001b[0;34m'opening_hours'\u001b[0m\u001b[0;34m]\u001b[0m\u001b[0;34m)\u001b[0m\u001b[0;34m\u001b[0m\u001b[0;34m\u001b[0m\u001b[0m\n\u001b[0m",
      "\u001b[0;31mKeyError\u001b[0m: 'opening_hours'"
     ]
    }
   ],
   "source": [
    "for r in results['results']:\n",
    "    print(r['name'], r['opening_hours'])"
   ]
  },
  {
   "cell_type": "code",
   "execution_count": 28,
   "metadata": {},
   "outputs": [
    {
     "data": {
      "text/plain": [
       "'ChIJF_wjXYXz2YkRD1KtoDrCTWU'"
      ]
     },
     "execution_count": 28,
     "metadata": {},
     "output_type": "execute_result"
    }
   ],
   "source": [
    "place_id = results['results'][0]['place_id']\n",
    "place_id"
   ]
  },
  {
   "cell_type": "code",
   "execution_count": 31,
   "metadata": {},
   "outputs": [
    {
     "name": "stdout",
     "output_type": "stream",
     "text": [
      "{'html_attributions': [], 'result': {'address_components': [{'long_name': '324', 'short_name': '324', 'types': ['street_number']}, {'long_name': 'West Water Street', 'short_name': 'W Water St', 'types': ['route']}, {'long_name': 'Downtown', 'short_name': 'Downtown', 'types': ['neighborhood', 'political']}, {'long_name': 'Syracuse', 'short_name': 'Syracuse', 'types': ['locality', 'political']}, {'long_name': 'Onondaga County', 'short_name': 'Onondaga County', 'types': ['administrative_area_level_2', 'political']}, {'long_name': 'New York', 'short_name': 'NY', 'types': ['administrative_area_level_1', 'political']}, {'long_name': 'United States', 'short_name': 'US', 'types': ['country', 'political']}, {'long_name': '13202', 'short_name': '13202', 'types': ['postal_code']}], 'adr_address': '<span class=\"street-address\">324 W Water St</span>, <span class=\"locality\">Syracuse</span>, <span class=\"region\">NY</span> <span class=\"postal-code\">13202</span>, <span class=\"country-name\">USA</span>', 'business_status': 'OPERATIONAL', 'current_opening_hours': {'open_now': True, 'periods': [{'close': {'date': '2023-04-10', 'day': 1, 'time': '2130'}, 'open': {'date': '2023-04-10', 'day': 1, 'time': '1100'}}, {'close': {'date': '2023-04-11', 'day': 2, 'time': '2130'}, 'open': {'date': '2023-04-11', 'day': 2, 'time': '1100'}}, {'close': {'date': '2023-04-05', 'day': 3, 'time': '2130'}, 'open': {'date': '2023-04-05', 'day': 3, 'time': '1100'}}, {'close': {'date': '2023-04-06', 'day': 4, 'time': '2130'}, 'open': {'date': '2023-04-06', 'day': 4, 'time': '1100'}}, {'close': {'date': '2023-04-07', 'day': 5, 'time': '2200'}, 'open': {'date': '2023-04-07', 'day': 5, 'time': '1100'}}, {'close': {'date': '2023-04-08', 'day': 6, 'time': '2200'}, 'open': {'date': '2023-04-08', 'day': 6, 'time': '1100'}}], 'weekday_text': ['Monday: 11:00\\u202fAM\\u2009–\\u20099:30\\u202fPM', 'Tuesday: 11:00\\u202fAM\\u2009–\\u20099:30\\u202fPM', 'Wednesday: 11:00\\u202fAM\\u2009–\\u20099:30\\u202fPM', 'Thursday: 11:00\\u202fAM\\u2009–\\u20099:30\\u202fPM', 'Friday: 11:00\\u202fAM\\u2009–\\u200910:00\\u202fPM', 'Saturday: 11:00\\u202fAM\\u2009–\\u200910:00\\u202fPM', 'Sunday: Closed']}, 'delivery': True, 'dine_in': True, 'formatted_address': '324 W Water St, Syracuse, NY 13202, USA', 'formatted_phone_number': '(315) 552-1300', 'geometry': {'location': {'lat': 43.050647, 'lng': -76.156396}, 'viewport': {'northeast': {'lat': 43.05195923029149, 'lng': -76.1547680197085}, 'southwest': {'lat': 43.04926126970849, 'lng': -76.1574659802915}}}, 'icon': 'https://maps.gstatic.com/mapfiles/place_api/icons/v1/png_71/restaurant-71.png', 'icon_background_color': '#FF9E67', 'icon_mask_base_uri': 'https://maps.gstatic.com/mapfiles/place_api/icons/v2/restaurant_pinlet', 'international_phone_number': '+1 315-552-1300', 'name': 'Guadalajara Mexican restaurant', 'opening_hours': {'open_now': True, 'periods': [{'close': {'day': 1, 'time': '2130'}, 'open': {'day': 1, 'time': '1100'}}, {'close': {'day': 2, 'time': '2130'}, 'open': {'day': 2, 'time': '1100'}}, {'close': {'day': 3, 'time': '2130'}, 'open': {'day': 3, 'time': '1100'}}, {'close': {'day': 4, 'time': '2130'}, 'open': {'day': 4, 'time': '1100'}}, {'close': {'day': 5, 'time': '2200'}, 'open': {'day': 5, 'time': '1100'}}, {'close': {'day': 6, 'time': '2200'}, 'open': {'day': 6, 'time': '1100'}}], 'weekday_text': ['Monday: 11:00\\u202fAM\\u2009–\\u20099:30\\u202fPM', 'Tuesday: 11:00\\u202fAM\\u2009–\\u20099:30\\u202fPM', 'Wednesday: 11:00\\u202fAM\\u2009–\\u20099:30\\u202fPM', 'Thursday: 11:00\\u202fAM\\u2009–\\u20099:30\\u202fPM', 'Friday: 11:00\\u202fAM\\u2009–\\u200910:00\\u202fPM', 'Saturday: 11:00\\u202fAM\\u2009–\\u200910:00\\u202fPM', 'Sunday: Closed']}, 'photos': [{'height': 3072, 'html_attributions': ['<a href=\"https://maps.google.com/maps/contrib/117535772467995380769\">Michael Lee</a>'], 'photo_reference': 'AUjq9jlTouUu-kV4VgcQDyKQl90TGhfWwRRF_dGMU0rFwGUbon1RcEYrQll4qu5qO28k0EX78bvE8qDvRDdlt5SqtFeiSUk4sRq-vBV0nEQcFG0TeHWEEAtly0mTPP4ofyl907jxew86aSCal5aLcBmPKz0kkcUpMIlprXES5LO_tkDsD-yQ', 'width': 4080}, {'height': 9000, 'html_attributions': ['<a href=\"https://maps.google.com/maps/contrib/109732020493621311368\">Rebecca Brown</a>'], 'photo_reference': 'AUjq9jmn4ZQuRW3zsA0Uhtzput_PvNhVmCtII3u6-gb5Zppraz5bgMlBRCA_lM49133MFhJooBd2a35kzUY7c8QimGiCiQuacenO15g-HeuoxWrNGTCvzQpPO_33at58gCLjnBECX3hCAgpqlQIxwxG8Ed5fLyU5o4OUdj7Nd2YOq-SnM2oZ', 'width': 12000}, {'height': 3024, 'html_attributions': ['<a href=\"https://maps.google.com/maps/contrib/107509540678491209190\">Jennifer VanDyke</a>'], 'photo_reference': 'AUjq9jmPB-3uAePkzGf_Jotcxr6wWlKk3orxA8LlJc6E6m1fFgUUI0joty4hOwVwQ-jihd5aPAFEC4qc5Z3JoRBIQw2c6psWRR6lidAQly22QHP3AcK5WAUJW94bvYAAwvUUoZypOYMFeqix9Oul9eeLaoZ_DliKMpiUfVaMp5W6LN8GhlJZ', 'width': 4032}, {'height': 2992, 'html_attributions': ['<a href=\"https://maps.google.com/maps/contrib/115074043492911608760\">Lisa G</a>'], 'photo_reference': 'AUjq9jl3Nyxah7mNyXMrU41mKgSpwzXquJ-HYyxsjza4lkIkIt6uouzm58eY0ll2ajn9G5AAFdjM-fqoV2JJUQGIh66QrgRfYEHxk4ZmtW4zHdHG-f95Iyr1VEhu6MKHQlrXjg7H2U8xHV6geYJbYQewTZcD_V7ktwHTUvKBd_EcuIuBAsA5', 'width': 2992}, {'height': 1500, 'html_attributions': ['<a href=\"https://maps.google.com/maps/contrib/112238469471267834729\">Mona</a>'], 'photo_reference': 'AUjq9jnlYkAKfhhiVU55H2fQ2XSxYmLNTOzm0eTnK6Y4WJcbU6bogvHLVj5WiNzVFcXUGHA8PXLvPraiKpfQw3axwDvRLWYyzhHJlnw95ModmJEtQItzw2vyYYEUBemnIF_eCHuasa2h_EAOn7bSQXXXpfDpqloa4-dZFuAYoO7r5VDKAQ7b', 'width': 1125}, {'height': 1500, 'html_attributions': ['<a href=\"https://maps.google.com/maps/contrib/112238469471267834729\">Mona</a>'], 'photo_reference': 'AUjq9jnVe-K_Z9CiJzTq-BO9J2UwyxxTZgTlADB_jLt2C-9pDDMAlFgDzdEPSJBsNvv_pAJ_WYdkTtK5M0YcatVSH8ljQpu4fJPx3YbVGQ0_uSOVWxij4Axl7Qr7-DrEK0ie0DQ72ErGRRtClIXVL-hsgAs0FFl7OLAjLD99K7n-9WkXpzkZ', 'width': 1125}, {'height': 3024, 'html_attributions': ['<a href=\"https://maps.google.com/maps/contrib/110654918920367072615\">Thomas Neilly</a>'], 'photo_reference': 'AUjq9jndScdDUpPhD1jue7cw9EcKo-L3Mqwv-P2DLTIRPiWWB6p84kCeAYtmH-t92rZ6GYLV0oArOOu4k5-RygyrhTe3As2_BzmWCCfVQoE_C6b0PktKjWKZ9uurDIHEm9iyUmErg6Lt_nGRssYRl25WqLSEDOP7ayQ5oVcEPh__i_zH87Hr', 'width': 4032}, {'height': 2992, 'html_attributions': ['<a href=\"https://maps.google.com/maps/contrib/115074043492911608760\">Lisa G</a>'], 'photo_reference': 'AUjq9jkMRhMUy6CRvXEUpaM1M_gGAEZppNpXfrstFmA9ayhSspA5x5SpsCy9hSFJ36tiXbvVimHRwj3vXButw763_z3vY97Q54w5OaXIylFqzx48DzaryhIU8se8kA-_3vicyoAUTKOKrhOMvQ-g6WEHMyNgeWzPVJZ_MI0oNWNtoTNMgwnm', 'width': 2992}, {'height': 4032, 'html_attributions': ['<a href=\"https://maps.google.com/maps/contrib/107932498281137992415\">India Oliver</a>'], 'photo_reference': 'AUjq9jmktE5bG8qLltCNChSVY3JZPNzh39753NEjykc-YK0uvMAdTa6UKoD4BGTY4spynd8uSMG_Lq1z-Fjl1DnJ_AUjq4CrSqNdOUb1awWGyn0jgW-P3jht_P_JzTiu7kEEpEaZK6S2IMB8F0IWXAi-MggmZerbZ1NvO7Aah0WAh75O-wE', 'width': 3024}, {'height': 2546, 'html_attributions': ['<a href=\"https://maps.google.com/maps/contrib/107033878481144283366\">Misha Bassi</a>'], 'photo_reference': 'AUjq9jmprFu6JLDeRFfA0WLUvxMxwtMORzvmXBuvfNdsTyHpyWGgMIIEgaf8dMXVfj1zEf37h4RV_R-OgBKP6mGvLXd0ef4Ep83PtKdbo0FczOeEdrjjuvOrjiK7C08OUjru34YhEwYMy-0LUGF_WR7-bMtF5GwOwMv_CT5QC0Kla_KzHD2s', 'width': 3272}], 'place_id': 'ChIJF_wjXYXz2YkRD1KtoDrCTWU', 'plus_code': {'compound_code': '3R2V+7C Syracuse, NY, USA', 'global_code': '87M53R2V+7C'}, 'price_level': 2, 'rating': 4.6, 'reference': 'ChIJF_wjXYXz2YkRD1KtoDrCTWU', 'reviews': [{'author_name': 'Lisa G', 'author_url': 'https://www.google.com/maps/contrib/115074043492911608760/reviews', 'language': 'en', 'original_language': 'en', 'profile_photo_url': 'https://lh3.googleusercontent.com/a-/ACB-R5QTncLbwgj5Thhnbd4Ijj9TOTXhWAtoviF7q8QQdPg=s128-c0x00000000-cc-rp-mo-ba3', 'rating': 5, 'relative_time_description': '5 months ago', 'text': 'Went for lunch and from start to finish the food and service was stellar! The menu was a little overwhelming but that just means I have to go back to try more things. The food came out really quick too so if you go there on your work lunch your sure to get back in time. Highly recommend!', 'time': 1666206069, 'translated': False}, {'author_name': 'Ryan Lacey', 'author_url': 'https://www.google.com/maps/contrib/103446402212201314721/reviews', 'language': 'en', 'original_language': 'en', 'profile_photo_url': 'https://lh3.googleusercontent.com/a/AGNmyxYwudE6eK684X8ie2rWaa-s4ZIHbMpV0jwz3EI=s128-c0x00000000-cc-rp-mo', 'rating': 5, 'relative_time_description': '8 months ago', 'text': 'If you are looking for authentic mexican food look no further. This is an absolutely wonderful place. Its meticulously clean and well kept. The service was amazing. The owner was there and was checking on everyone often. He made it really feel like home! The food was delicious. Great portions and pricing. The mixed drinks and margaritas were made to perfection. The menu is HUGE with something for everyone.  Outside or inside seating is perfect during the summer.  We will definitely be going back soon!', 'time': 1657417069, 'translated': False}, {'author_name': 'Wayne Ennis', 'author_url': 'https://www.google.com/maps/contrib/109495787097357874548/reviews', 'language': 'en', 'original_language': 'en', 'profile_photo_url': 'https://lh3.googleusercontent.com/a-/ACB-R5RQa-a81KSNfjRhphh0kwjT19zHQfks-AD-Kl-VvHs=s128-c0x00000000-cc-rp-mo-ba6', 'rating': 5, 'relative_time_description': '9 months ago', 'text': 'The best Mexican cuisine in Syracuse. The prices are fair and the service is always good. They have good drinks and unlike some other restaurants in town their margarita towers are well portioned with ice and tequila.', 'time': 1655557763, 'translated': False}, {'author_name': 'Britt guddal', 'author_url': 'https://www.google.com/maps/contrib/105702471646382693319/reviews', 'language': 'en', 'original_language': 'en', 'profile_photo_url': 'https://lh3.googleusercontent.com/a-/ACB-R5QYZM6mvhE8ljnGtwiksgfcma5k31Jo2Ue4BdMh=s128-c0x00000000-cc-rp-mo-ba3', 'rating': 5, 'relative_time_description': '2 months ago', 'text': \"The food and service are great! They have complimentary chips and salsa by the time we sat down. They have large servings of food. I tried the mango margarita and it's really good and refreshing!!\", 'time': 1674463600, 'translated': False}, {'author_name': 'Thomas Neilly', 'author_url': 'https://www.google.com/maps/contrib/110654918920367072615/reviews', 'language': 'en', 'original_language': 'en', 'profile_photo_url': 'https://lh3.googleusercontent.com/a-/ACB-R5T6S0zMPiol-QlQRpBiHR8NgQKsTup_VprwFmW15Q=s128-c0x00000000-cc-rp-mo', 'rating': 5, 'relative_time_description': '8 months ago', 'text': 'From the moment of walking in with a kind employee holding the doors open for my family and I. And being greeted by the hostess with great energy bringing us to our table to our sweet waitress serving us with smiles, great energy and accuracy. The positive atmosphere and scenery has been fantastic! And the food was some of the best Mexican food I’ve personally ever had. Everything tasting so amazing with my family agreed as well. Especially my picky mom that usually complains had nothing to complain about so that was a first haha. But Again everything was just perfect and I’ve been to plenty of different Mexican restaurants all over, but this one takes the cake:) My new go too! Thank everyone working here for doing such a great job we’ll be back soon!!', 'time': 1658610482, 'translated': False}], 'serves_beer': True, 'serves_dinner': True, 'serves_lunch': True, 'serves_wine': True, 'takeout': True, 'types': ['restaurant', 'food', 'point_of_interest', 'establishment'], 'url': 'https://maps.google.com/?cid=7299704128097047055', 'user_ratings_total': 262, 'utc_offset': -240, 'vicinity': '324 West Water Street, Syracuse', 'website': 'https://www.guadalajaramexican.com/menu/', 'wheelchair_accessible_entrance': True}, 'status': 'OK'}\n"
     ]
    }
   ],
   "source": [
    "url = 'https://api.ist256.com/google/places/details' # ENDPOINT\n",
    "params = {'placeid': place_id } # INPUT (Query String)\n",
    "headers = {'accept': 'application/json', \n",
    "           'Api-Key': '751838d6b9978955679461c80a7df60bde4f093d'} #INPUT (Header)\n",
    "response = requests.get(url, params=params, headers=headers) # Method GET\n",
    "response.raise_for_status()\n",
    "results = response.json()\n",
    "results  #OUTPUT"
   ]
  },
  {
   "cell_type": "markdown",
   "metadata": {},
   "source": [
    "## Step 4b: Refactor into function `googlePlacesSearch()`"
   ]
  },
  {
   "cell_type": "code",
   "execution_count": null,
   "metadata": {},
   "outputs": [],
   "source": [
    "# PROMPT 13 - refactor the code in prompt 12 into a function\n",
    "\n"
   ]
  },
  {
   "cell_type": "markdown",
   "metadata": {},
   "source": [
    "## Step 4c: `googlePlacesSearch()` Test: Call the function"
   ]
  },
  {
   "cell_type": "code",
   "execution_count": null,
   "metadata": {},
   "outputs": [],
   "source": [
    "# PROMPT 14 - call your function using lat,lng and place_type from prompt 13\n"
   ]
  },
  {
   "cell_type": "markdown",
   "metadata": {},
   "source": [
    "## Top-Down: Put it all together\n",
    "\n",
    "\n",
    "Get it all working in this cell. No need to copy the function definitions.\n",
    "\n"
   ]
  },
  {
   "cell_type": "code",
   "execution_count": null,
   "metadata": {},
   "outputs": [],
   "source": [
    "# PROMPT 15\n",
    "print(\"Google Places Search\")\n",
    "# TODO: Implement steps 1,2,3 and 4 \n",
    "# 3 and 4 are function calls!!!\n"
   ]
  },
  {
   "cell_type": "markdown",
   "metadata": {},
   "source": [
    "## Time for Jazz Hands... IPython interact!\n",
    "\n",
    "Replace the inputs with interact manual!!!!"
   ]
  },
  {
   "cell_type": "code",
   "execution_count": null,
   "metadata": {},
   "outputs": [],
   "source": [
    "from IPython.display import display,HTML\n",
    "from ipywidgets import interact_manual\n",
    "\n",
    "types = ['lodging','restaurant','museum', 'stadium', 'university']\n",
    "@interact_manual(location=\"\", place_type=types)\n",
    "def search(location, place_type):\n",
    "    pass # TODO remove pass and replace with steps 3 and 4\n",
    "\n",
    "\n"
   ]
  },
  {
   "cell_type": "code",
   "execution_count": 30,
   "metadata": {},
   "outputs": [],
   "source": [
    "# run this code to turn in your work!\n",
    "from coursetools.submission import Submission\n",
    "Submission().submit_now()"
   ]
  },
  {
   "cell_type": "code",
   "execution_count": null,
   "metadata": {},
   "outputs": [],
   "source": []
  }
 ],
 "metadata": {
  "anaconda-cloud": {},
  "kernelspec": {
   "display_name": "Python 3 (ipykernel)",
   "language": "python",
   "name": "python3"
  },
  "language_info": {
   "codemirror_mode": {
    "name": "ipython",
    "version": 3
   },
   "file_extension": ".py",
   "mimetype": "text/x-python",
   "name": "python",
   "nbconvert_exporter": "python",
   "pygments_lexer": "ipython3",
   "version": "3.9.7"
  },
  "toc": {
   "base_numbering": 1,
   "nav_menu": {},
   "number_sections": false,
   "sideBar": false,
   "skip_h1_title": false,
   "title_cell": "Table of Contents",
   "title_sidebar": "Contents",
   "toc_cell": false,
   "toc_position": {},
   "toc_section_display": false,
   "toc_window_display": false
  },
  "varInspector": {
   "cols": {
    "lenName": 16,
    "lenType": 16,
    "lenVar": 40
   },
   "kernels_config": {
    "python": {
     "delete_cmd_postfix": "",
     "delete_cmd_prefix": "del ",
     "library": "var_list.py",
     "varRefreshCmd": "print(var_dic_list())"
    },
    "r": {
     "delete_cmd_postfix": ") ",
     "delete_cmd_prefix": "rm(",
     "library": "var_list.r",
     "varRefreshCmd": "cat(var_dic_list()) "
    }
   },
   "types_to_exclude": [
    "module",
    "function",
    "builtin_function_or_method",
    "instance",
    "_Feature"
   ],
   "window_display": false
  }
 },
 "nbformat": 4,
 "nbformat_minor": 1
}
