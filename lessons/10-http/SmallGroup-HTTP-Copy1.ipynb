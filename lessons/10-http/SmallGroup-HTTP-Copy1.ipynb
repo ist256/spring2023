{
 "cells": [
  {
   "cell_type": "markdown",
   "metadata": {},
   "source": [
    "# Now You Code In Class: Google Places API\n",
    "\n",
    "For this Now You Code, you will need the IST256 Google Places api https://api.ist256.com/ which we will use to access to local area restaurant information. **Your instructor will provide you with an API key**\n",
    "\n",
    "Let's write a program to do the following\n",
    "\n",
    "    1. input the city you're travelling to\n",
    "    2. input the place type you are searching for: lodging, restaurant, museum, stadium,  university\n",
    "    3. Use the /google/geocode API to get GPS coordinates for the city\n",
    "    4. Use the /google/places/search API to get place types in the city\n",
    "\n",
    "Let's follow the best practices from the lab and write each API call as a function once we get it working.\n",
    "\n",
    "We will take a **top down** approach, since we have a basic algorithm\n",
    "\n",
    "In your algorithm, frame your steps based on how the API must be used to complete the task. "
   ]
  },
  {
   "cell_type": "markdown",
   "metadata": {
    "collapsed": true
   },
   "source": [
    "# Top-Down \n",
    "\n",
    "    Step 1 - Trivial\n",
    "    Step 2 - Trivial\n",
    "    Step 3 - Call the /google/geocode API\n",
    "    Step 4 - Call the /google/places/search  API\n",
    "    \n",
    "    \n",
    "    \n",
    "https://api.ist256.com  -- read the docs together!\n",
    "\n",
    "# Steps 1 and 2"
   ]
  },
  {
   "cell_type": "code",
   "execution_count": null,
   "metadata": {},
   "outputs": [],
   "source": [
    "import requests\n",
    "google_api_key = \"751838d6b9978955679461c80a7df60bde4f093d\" # set this in this cell one time!\n",
    "\n",
    "\n"
   ]
  },
  {
   "cell_type": "code",
   "execution_count": 1,
   "metadata": {},
   "outputs": [],
   "source": [
    "%%pybot\n",
    "\n",
    "convert this curl into python requests\n",
    "\n",
    "curl -X 'GET' \\\n",
    "  'https://api.ist256.com/google/geocode?location=JMA%20Wireless%20Dome' \\\n",
    "  -H 'accept: application/json' \\\n",
    "  -H 'Api-Key: 751838d6b9978955679461c80a7df60bde4f093d'"
   ]
  },
  {
   "cell_type": "code",
   "execution_count": 3,
   "metadata": {},
   "outputs": [
    {
     "data": {
      "text/plain": [
       "{'results': [{'address_components': [{'long_name': '900',\n",
       "     'short_name': '900',\n",
       "     'types': ['street_number']},\n",
       "    {'long_name': 'Irving Avenue',\n",
       "     'short_name': 'Irving Ave',\n",
       "     'types': ['route']},\n",
       "    {'long_name': 'Eastside',\n",
       "     'short_name': 'Eastside',\n",
       "     'types': ['neighborhood', 'political']},\n",
       "    {'long_name': 'Syracuse',\n",
       "     'short_name': 'Syracuse',\n",
       "     'types': ['locality', 'political']},\n",
       "    {'long_name': 'Onondaga County',\n",
       "     'short_name': 'Onondaga County',\n",
       "     'types': ['administrative_area_level_2', 'political']},\n",
       "    {'long_name': 'New York',\n",
       "     'short_name': 'NY',\n",
       "     'types': ['administrative_area_level_1', 'political']},\n",
       "    {'long_name': 'United States',\n",
       "     'short_name': 'US',\n",
       "     'types': ['country', 'political']},\n",
       "    {'long_name': '13244', 'short_name': '13244', 'types': ['postal_code']}],\n",
       "   'formatted_address': '900 Irving Ave, Syracuse, NY 13244, USA',\n",
       "   'geometry': {'location': {'lat': 43.036233, 'lng': -76.1362931},\n",
       "    'location_type': 'ROOFTOP',\n",
       "    'viewport': {'northeast': {'lat': 43.0375907302915, 'lng': -76.1354248},\n",
       "     'southwest': {'lat': 43.0348927697085, 'lng': -76.1381748}}},\n",
       "   'partial_match': True,\n",
       "   'place_id': 'ChIJQ8K5Npnz2YkRZof_3BalOvo',\n",
       "   'plus_code': {'compound_code': '2VP7+FF Syracuse, NY',\n",
       "    'global_code': '87M52VP7+FF'},\n",
       "   'types': ['establishment', 'point_of_interest', 'stadium']}],\n",
       " 'status': 'OK'}"
      ]
     },
     "execution_count": 3,
     "metadata": {},
     "output_type": "execute_result"
    }
   ],
   "source": [
    "url = 'https://api.ist256.com/google/geocode' #Endpoint\n",
    "params = {'location': 'JMA Wireless Dome'} # inputs (query)\n",
    "headers = {\n",
    "    'accept': 'application/json', \n",
    "    'Api-Key': '751838d6b9978955679461c80a7df60bde4f093d'\n",
    "} # inputs (header)\n",
    "response = requests.get(url, params=params, headers=headers)\n",
    "response.raise_for_status()\n",
    "results = response.json()\n",
    "latlong = results['results'][0]['geometry']['location'] #output"
   ]
  },
  {
   "cell_type": "code",
   "execution_count": 11,
   "metadata": {},
   "outputs": [],
   "source": []
  },
  {
   "cell_type": "code",
   "execution_count": 4,
   "metadata": {},
   "outputs": [
    {
     "ename": "SyntaxError",
     "evalue": "invalid syntax (2036451305.py, line 8)",
     "output_type": "error",
     "traceback": [
      "\u001b[0;36m  File \u001b[0;32m\"/tmp/ipykernel_260/2036451305.py\"\u001b[0;36m, line \u001b[0;32m8\u001b[0m\n\u001b[0;31m    results\u001b[0m\n\u001b[0m    ^\u001b[0m\n\u001b[0;31mSyntaxError\u001b[0m\u001b[0;31m:\u001b[0m invalid syntax\n"
     ]
    }
   ],
   "source": []
  },
  {
   "cell_type": "markdown",
   "metadata": {},
   "source": [
    "## Step 3a - Inputs and outputs for /google/geocode API\n",
    "\n",
    "Let's go to https://api.ist256.com/ and call the /google/geocode API from there. what are the inputs and outputs?\n",
    "\n",
    "    ENDPOINT: What is the full URL to the API endpoint?\n",
    "    \n",
    "        PROMPT 1\n",
    "        \n",
    "    REQUEST METHOD: What is the HTTP request method used?\n",
    "    \n",
    "        PROMPT 2\n",
    "\n",
    "    INPUTS: (what do we need to make the API work?)\n",
    "    \n",
    "        PROMPT 3\n",
    "        \n",
    "    OUTPUTS: (what do we require for the next step)\n",
    "    \n",
    "        PROMPT 4\n",
    "\n",
    "    ALGORITHM: (to call any api with HTTP GET)\n",
    "    \n",
    "        1. build the request endpoint, header and query string\n",
    "        2. call the API using requests.get\n",
    "        3. de-serialize the JSON response to a python object data structure\n",
    "        4. extract what you need fro the python object data structureion"
   ]
  },
  {
   "cell_type": "code",
   "execution_count": null,
   "metadata": {},
   "outputs": [],
   "source": [
    "# PROMPT 5\n",
    "\n",
    "url = 'https://api.ist256.com/google/geocode' #Endpoint\n",
    "params = {'location': 'JMA Wireless Dome'} # inputs (query)\n",
    "headers = {\n",
    "    'accept': 'application/json', \n",
    "    'Api-Key': '751838d6b9978955679461c80a7df60bde4f093d'\n",
    "} # inputs (header)\n",
    "response = requests.get(url, params=params, headers=headers)\n",
    "response.raise_for_status()\n",
    "results = response.json()\n",
    "latlong = results['results'][0]['geometry']['location'] #output"
   ]
  },
  {
   "cell_type": "markdown",
   "metadata": {},
   "source": [
    "## Step 3b: Refactor into function `googleGeocode()`"
   ]
  },
  {
   "cell_type": "code",
   "execution_count": 12,
   "metadata": {},
   "outputs": [],
   "source": [
    "# PROMPT 6 - refactor the code in prompt 5 into a function\n",
    "# input: location\n",
    "# output: latlong\n",
    "\n",
    "def googleGeocode(location):\n",
    "    # taken from week 10 smallgroup\n",
    "    url = 'https://api.ist256.com/google/geocode' #Endpoint\n",
    "    params = {'location': location} # inputs (query)\n",
    "    headers = {\n",
    "        'accept': 'application/json', \n",
    "        'Api-Key': '751838d6b9978955679461c80a7df60bde4f093d'\n",
    "    } # inputs (header)\n",
    "    response = requests.get(url, params=params, headers=headers)\n",
    "    response.raise_for_status()\n",
    "    results = response.json()\n",
    "    latlong = results['results'][0]['geometry']['location'] #output      \n",
    "    \n",
    "    return latlong\n",
    "\n"
   ]
  },
  {
   "cell_type": "markdown",
   "metadata": {},
   "source": [
    "## Step 3c: `googleGeocode()` Test: Call the function"
   ]
  },
  {
   "cell_type": "code",
   "execution_count": 13,
   "metadata": {},
   "outputs": [
    {
     "data": {
      "text/plain": [
       "{'lat': 43.0562355, 'lng': -76.0857463}"
      ]
     },
     "execution_count": 13,
     "metadata": {},
     "output_type": "execute_result"
    }
   ],
   "source": [
    "# PROMPT 7 - call your function using 'Syracuse, NY' as the argument\n",
    "googleGeocode(\"Chuck E Cheese on Erie Blvd\")"
   ]
  },
  {
   "cell_type": "code",
   "execution_count": 14,
   "metadata": {},
   "outputs": [
    {
     "data": {
      "text/plain": [
       "{'lat': 51.4933675, 'lng': 0.0098214}"
      ]
     },
     "execution_count": 14,
     "metadata": {},
     "output_type": "execute_result"
    }
   ],
   "source": [
    "googleGeocode(\"Greenwich, UK\")"
   ]
  },
  {
   "cell_type": "markdown",
   "metadata": {},
   "source": [
    "## Step 4a - Inputs and outputs for /google/places/search API\n",
    "\n",
    "Let's go to https://api.ist256.com/ and call the /google/places/search API from there. what are the inputs and outputs?\n",
    "\n",
    "    ENDPOINT: What is the full URL to the API endpoint?\n",
    "    \n",
    "        PROMPT 8\n",
    "        \n",
    "    REQUEST METHOD: What is the HTTP request method used?\n",
    "    \n",
    "        PROMPT 9\n",
    "\n",
    "    INPUTS: (what do we need to make the API work?)\n",
    "    \n",
    "        PROMPT 10\n",
    "        \n",
    "    OUTPUTS: (what do we require for the next step)\n",
    "    \n",
    "        PROMPT 11\n",
    "\n",
    "    ALGORITHM AGAIN: (to call any api with HTTP GET)\n",
    "    \n",
    "        1. build the request endpoint, header and query string\n",
    "        2. call the API using requests.get\n",
    "        3. de-serialize the JSON response to a python object data structure\n",
    "        4. extract what you need fro the python object data structure"
   ]
  },
  {
   "cell_type": "code",
   "execution_count": 17,
   "metadata": {
    "collapsed": true
   },
   "outputs": [
    {
     "data": {
      "text/plain": [
       "{'html_attributions': [],\n",
       " 'results': [{'business_status': 'OPERATIONAL',\n",
       "   'geometry': {'location': {'lat': 43.0506337, 'lng': -76.1561464},\n",
       "    'viewport': {'northeast': {'lat': 43.05196007989271,\n",
       "      'lng': -76.15476717010728},\n",
       "     'southwest': {'lat': 43.04926042010727, 'lng': -76.15746682989273}}},\n",
       "   'icon': 'https://maps.gstatic.com/mapfiles/place_api/icons/v1/png_71/restaurant-71.png',\n",
       "   'icon_background_color': '#FF9E67',\n",
       "   'icon_mask_base_uri': 'https://maps.gstatic.com/mapfiles/place_api/icons/v2/restaurant_pinlet',\n",
       "   'name': 'Guadalajara Mexican restaurant',\n",
       "   'opening_hours': {'open_now': True},\n",
       "   'photos': [{'height': 4080,\n",
       "     'html_attributions': ['<a href=\"https://maps.google.com/maps/contrib/114906502700138699643\">Samuel Montelongo</a>'],\n",
       "     'photo_reference': 'AUjq9jnxuZpr77hUwwBmGaX1WOB3umfJtspc_KPwgG6xdZKKyrKL4B9hKBJIuzu9oH2EWCfQvfJkoreFGyFpY0k0c0BUBV4Z8-eEvjYi_5zbi_li1sijCykLvQm6bNs72QTLEILnbNMZ6pe-ZcH5v59kRoI9Rk96UOTcYhLy6dQfALtLa_xO',\n",
       "     'width': 3060}],\n",
       "   'place_id': 'ChIJF_wjXYXz2YkRD1KtoDrCTWU',\n",
       "   'plus_code': {'compound_code': '3R2V+7C Syracuse, New York',\n",
       "    'global_code': '87M53R2V+7C'},\n",
       "   'price_level': 2,\n",
       "   'rating': 4.6,\n",
       "   'reference': 'ChIJF_wjXYXz2YkRD1KtoDrCTWU',\n",
       "   'scope': 'GOOGLE',\n",
       "   'types': ['restaurant', 'food', 'point_of_interest', 'establishment'],\n",
       "   'user_ratings_total': 262,\n",
       "   'vicinity': '324 W Water St, Syracuse'},\n",
       "  {'business_status': 'OPERATIONAL',\n",
       "   'geometry': {'location': {'lat': 43.0487742, 'lng': -76.141043},\n",
       "    'viewport': {'northeast': {'lat': 43.05001182989272,\n",
       "      'lng': -76.13969832010729},\n",
       "     'southwest': {'lat': 43.04731217010728, 'lng': -76.14239797989272}}},\n",
       "   'icon': 'https://maps.gstatic.com/mapfiles/place_api/icons/v1/png_71/restaurant-71.png',\n",
       "   'icon_background_color': '#FF9E67',\n",
       "   'icon_mask_base_uri': 'https://maps.gstatic.com/mapfiles/place_api/icons/v2/restaurant_pinlet',\n",
       "   'name': 'XO Taco',\n",
       "   'opening_hours': {'open_now': True},\n",
       "   'photos': [{'height': 4000,\n",
       "     'html_attributions': ['<a href=\"https://maps.google.com/maps/contrib/106396263657986486281\">Jennifer O</a>'],\n",
       "     'photo_reference': 'AUjq9jk36G8_h07cl111I_vT5kDWUHxYPM6s7kvGLyqpxAQGme1P66oQr6THd30ON8_D5Q2A5kWp5yKC89iFCua20yjBW6Evqy2TWATtQdCpZSotvFPCMwiKDP-x2Pn_U6QDWaJG46Qv6zOaxaU_19GCdw2K7nt3ffYUsskBch1OgiGWNUNg',\n",
       "     'width': 3000}],\n",
       "   'place_id': 'ChIJyXyuGlbz2YkR5dv3vgWYWdY',\n",
       "   'plus_code': {'compound_code': '2VX5+GH Syracuse, New York',\n",
       "    'global_code': '87M52VX5+GH'},\n",
       "   'rating': 4.4,\n",
       "   'reference': 'ChIJyXyuGlbz2YkR5dv3vgWYWdY',\n",
       "   'scope': 'GOOGLE',\n",
       "   'types': ['bar',\n",
       "    'restaurant',\n",
       "    'food',\n",
       "    'point_of_interest',\n",
       "    'establishment'],\n",
       "   'user_ratings_total': 653,\n",
       "   'vicinity': '713 E Fayette St, Syracuse'},\n",
       "  {'business_status': 'OPERATIONAL',\n",
       "   'geometry': {'location': {'lat': 43.0478707, 'lng': -76.1557672},\n",
       "    'viewport': {'northeast': {'lat': 43.04924317989272,\n",
       "      'lng': -76.15440422010727},\n",
       "     'southwest': {'lat': 43.04654352010727, 'lng': -76.1571038798927}}},\n",
       "   'icon': 'https://maps.gstatic.com/mapfiles/place_api/icons/v1/png_71/restaurant-71.png',\n",
       "   'icon_background_color': '#FF9E67',\n",
       "   'icon_mask_base_uri': 'https://maps.gstatic.com/mapfiles/place_api/icons/v2/restaurant_pinlet',\n",
       "   'name': 'Margaritas Mexican Cantina',\n",
       "   'opening_hours': {'open_now': True},\n",
       "   'photos': [{'height': 1262,\n",
       "     'html_attributions': ['<a href=\"https://maps.google.com/maps/contrib/107509995598273751686\">A Google User</a>'],\n",
       "     'photo_reference': 'AUjq9jkv_hUqmttrqrY22PkIAUZRXRRiSSUNu3Wcix_Foj2-_WP3XBRo-O-aJWimGl4rrdE5zMDyE18-RUgeHb7uEj7xZfdCIz6esX6Rj6xQVXIIGZZk8XZrhWVova2rj2DMNNPwV-CWphQbuzv67JcLKGOs7lhkxghC502qgt7YEDcBoF6K',\n",
       "     'width': 1080}],\n",
       "   'place_id': 'ChIJA0yvTgHz2YkR3d9Li0RUeFA',\n",
       "   'plus_code': {'compound_code': '2RXV+4P Syracuse, New York',\n",
       "    'global_code': '87M52RXV+4P'},\n",
       "   'price_level': 2,\n",
       "   'rating': 4.3,\n",
       "   'reference': 'ChIJA0yvTgHz2YkR3d9Li0RUeFA',\n",
       "   'scope': 'GOOGLE',\n",
       "   'types': ['bar',\n",
       "    'restaurant',\n",
       "    'food',\n",
       "    'point_of_interest',\n",
       "    'establishment'],\n",
       "   'user_ratings_total': 986,\n",
       "   'vicinity': '203 Walton St, Syracuse'},\n",
       "  {'business_status': 'OPERATIONAL',\n",
       "   'geometry': {'location': {'lat': 43.0493254, 'lng': -76.1510004},\n",
       "    'viewport': {'northeast': {'lat': 43.05067292989272,\n",
       "      'lng': -76.14955582010728},\n",
       "     'southwest': {'lat': 43.04797327010728, 'lng': -76.15225547989272}}},\n",
       "   'icon': 'https://maps.gstatic.com/mapfiles/place_api/icons/v1/png_71/restaurant-71.png',\n",
       "   'icon_background_color': '#FF9E67',\n",
       "   'icon_mask_base_uri': 'https://maps.gstatic.com/mapfiles/place_api/icons/v2/restaurant_pinlet',\n",
       "   'name': 'Otro Cinco',\n",
       "   'opening_hours': {'open_now': True},\n",
       "   'photos': [{'height': 4160,\n",
       "     'html_attributions': ['<a href=\"https://maps.google.com/maps/contrib/113976714331210753947\">Vernon Buckley</a>'],\n",
       "     'photo_reference': 'AUjq9jljz9iRRVX5HDmlPPVqkQkRpOLu2cVPclIx9C2rxwMAz0tGaOry44jmx2Os3r80E6Oym0DA_g5QPm8zUsVURTWZrzCCNXpDSHPr6ZxRJv5qbb9FtoiWHwX6pqbN70HJ8tTe4ZQI20VRjWqBUWFx-uOUBBxeDlsVahcGI4pykKIHehrs',\n",
       "     'width': 3120}],\n",
       "   'place_id': 'ChIJr6nBDLnz2YkRY7oe6kMDzZk',\n",
       "   'plus_code': {'compound_code': '2RXX+PH Syracuse, New York',\n",
       "    'global_code': '87M52RXX+PH'},\n",
       "   'price_level': 2,\n",
       "   'rating': 4.5,\n",
       "   'reference': 'ChIJr6nBDLnz2YkRY7oe6kMDzZk',\n",
       "   'scope': 'GOOGLE',\n",
       "   'types': ['meal_takeaway',\n",
       "    'bar',\n",
       "    'restaurant',\n",
       "    'food',\n",
       "    'point_of_interest',\n",
       "    'establishment'],\n",
       "   'user_ratings_total': 1028,\n",
       "   'vicinity': '206 S Warren St, Syracuse'},\n",
       "  {'business_status': 'OPERATIONAL',\n",
       "   'geometry': {'location': {'lat': 43.0402807, 'lng': -76.1609871},\n",
       "    'viewport': {'northeast': {'lat': 43.04170487989273,\n",
       "      'lng': -76.15953797010728},\n",
       "     'southwest': {'lat': 43.03900522010728, 'lng': -76.16223762989272}}},\n",
       "   'icon': 'https://maps.gstatic.com/mapfiles/place_api/icons/v1/png_71/restaurant-71.png',\n",
       "   'icon_background_color': '#FF9E67',\n",
       "   'icon_mask_base_uri': 'https://maps.gstatic.com/mapfiles/place_api/icons/v2/restaurant_pinlet',\n",
       "   'name': 'Cooperativa Las Comadres',\n",
       "   'place_id': 'ChIJEbgR9R_z2YkR0srTHLUsPEI',\n",
       "   'plus_code': {'compound_code': '2RRQ+4J Syracuse, New York',\n",
       "    'global_code': '87M52RRQ+4J'},\n",
       "   'rating': 5,\n",
       "   'reference': 'ChIJEbgR9R_z2YkR0srTHLUsPEI',\n",
       "   'scope': 'GOOGLE',\n",
       "   'types': ['meal_takeaway',\n",
       "    'restaurant',\n",
       "    'food',\n",
       "    'point_of_interest',\n",
       "    'establishment'],\n",
       "   'user_ratings_total': 2,\n",
       "   'vicinity': '208 Slocum Ave, Syracuse'},\n",
       "  {'business_status': 'OPERATIONAL',\n",
       "   'geometry': {'location': {'lat': 43.0432639, 'lng': -76.16454019999999},\n",
       "    'viewport': {'northeast': {'lat': 43.04455007989272,\n",
       "      'lng': -76.16318492010728},\n",
       "     'southwest': {'lat': 43.04185042010728, 'lng': -76.16588457989273}}},\n",
       "   'icon': 'https://maps.gstatic.com/mapfiles/place_api/icons/v1/png_71/restaurant-71.png',\n",
       "   'icon_background_color': '#FF9E67',\n",
       "   'icon_mask_base_uri': 'https://maps.gstatic.com/mapfiles/place_api/icons/v2/restaurant_pinlet',\n",
       "   'name': 'Restaurant La Esperanza',\n",
       "   'place_id': 'ChIJlddEN-jz2YkRmdyWJHO_y7g',\n",
       "   'plus_code': {'compound_code': '2RVP+85 Syracuse, New York',\n",
       "    'global_code': '87M52RVP+85'},\n",
       "   'rating': 0,\n",
       "   'reference': 'ChIJlddEN-jz2YkRmdyWJHO_y7g',\n",
       "   'scope': 'GOOGLE',\n",
       "   'types': ['restaurant', 'food', 'point_of_interest', 'establishment'],\n",
       "   'user_ratings_total': 0,\n",
       "   'vicinity': '512 Gifford St, Syracuse'},\n",
       "  {'business_status': 'OPERATIONAL',\n",
       "   'geometry': {'location': {'lat': 43.0482184, 'lng': -76.1564095},\n",
       "    'viewport': {'northeast': {'lat': 43.04945147989272,\n",
       "      'lng': -76.15505492010728},\n",
       "     'southwest': {'lat': 43.04675182010728, 'lng': -76.15775457989272}}},\n",
       "   'icon': 'https://maps.gstatic.com/mapfiles/place_api/icons/v1/png_71/restaurant-71.png',\n",
       "   'icon_background_color': '#FF9E67',\n",
       "   'icon_mask_base_uri': 'https://maps.gstatic.com/mapfiles/place_api/icons/v2/restaurant_pinlet',\n",
       "   'name': 'Decir Algo',\n",
       "   'opening_hours': {'open_now': True},\n",
       "   'photos': [{'height': 4096,\n",
       "     'html_attributions': ['<a href=\"https://maps.google.com/maps/contrib/111342475301802849380\">Casey Masters</a>'],\n",
       "     'photo_reference': 'AUjq9jmS7vQFTu9xfZoTXacO2d7-2M0DsDYiKHuyp3vwNjo3XeERRpReLdD2-vXgum6f-cH4ocZykGRl9xqGrfhSuQaLMDU8q_Uw_a-Kxaiu-2bze-KrB0_ZZ0ELDEFEx4abJtKivk9bjgMAi8bhdU2XbMgtTQyq7-Yq5rVmlV2RQId6QmxE',\n",
       "     'width': 3072}],\n",
       "   'place_id': 'ChIJs5mQzAnz2YkRnPiUozkrqK0',\n",
       "   'plus_code': {'compound_code': '2RXV+7C Syracuse, New York',\n",
       "    'global_code': '87M52RXV+7C'},\n",
       "   'rating': 2.8,\n",
       "   'reference': 'ChIJs5mQzAnz2YkRnPiUozkrqK0',\n",
       "   'scope': 'GOOGLE',\n",
       "   'types': ['restaurant', 'food', 'point_of_interest', 'establishment'],\n",
       "   'user_ratings_total': 9,\n",
       "   'vicinity': '216 Walton St, Syracuse'},\n",
       "  {'business_status': 'OPERATIONAL',\n",
       "   'geometry': {'location': {'lat': 43.0616786, 'lng': -76.15003589999999},\n",
       "    'viewport': {'northeast': {'lat': 43.06298777989272,\n",
       "      'lng': -76.14873882010727},\n",
       "     'southwest': {'lat': 43.06028812010728, 'lng': -76.1514384798927}}},\n",
       "   'icon': 'https://maps.gstatic.com/mapfiles/place_api/icons/v1/png_71/restaurant-71.png',\n",
       "   'icon_background_color': '#FF9E67',\n",
       "   'icon_mask_base_uri': 'https://maps.gstatic.com/mapfiles/place_api/icons/v2/restaurant_pinlet',\n",
       "   'name': 'Mi Casita Restaurant',\n",
       "   'opening_hours': {'open_now': True},\n",
       "   'photos': [{'height': 1836,\n",
       "     'html_attributions': ['<a href=\"https://maps.google.com/maps/contrib/113287233003105440285\">Kimberly Ruiz</a>'],\n",
       "     'photo_reference': 'AUjq9jlMaTlQH_3OW0XHe5vIPPfwxWWpsQnhagJa2W6ATetk67cs3cl872bKuAU3TmUG0X6oo12TxJmhSaDcYsgHTz3EDDq_uTNkGe35U1_AcJtcYd3PzbXvuhZV6-dyZDBoNffwMubVfn3oj2RcQcmV1iLVGdxagMbVOdf2XcQ173kywxJI',\n",
       "     'width': 3264}],\n",
       "   'place_id': 'ChIJV1GbTUvy2YkRTtr26Z6rDBY',\n",
       "   'plus_code': {'compound_code': '3R6X+MX Syracuse, New York',\n",
       "    'global_code': '87M53R6X+MX'},\n",
       "   'price_level': 1,\n",
       "   'rating': 4.6,\n",
       "   'reference': 'ChIJV1GbTUvy2YkRTtr26Z6rDBY',\n",
       "   'scope': 'GOOGLE',\n",
       "   'types': ['restaurant', 'food', 'point_of_interest', 'establishment'],\n",
       "   'user_ratings_total': 517,\n",
       "   'vicinity': '1614 Lodi St, Syracuse'},\n",
       "  {'business_status': 'OPERATIONAL',\n",
       "   'geometry': {'location': {'lat': 43.0418336, 'lng': -76.1358542},\n",
       "    'viewport': {'northeast': {'lat': 43.04307972989272,\n",
       "      'lng': -76.13450887010728},\n",
       "     'southwest': {'lat': 43.04038007010727, 'lng': -76.13720852989273}}},\n",
       "   'icon': 'https://maps.gstatic.com/mapfiles/place_api/icons/v1/png_71/restaurant-71.png',\n",
       "   'icon_background_color': '#FF9E67',\n",
       "   'icon_mask_base_uri': 'https://maps.gstatic.com/mapfiles/place_api/icons/v2/restaurant_pinlet',\n",
       "   'name': 'Chipotle Mexican Grill',\n",
       "   'opening_hours': {'open_now': True},\n",
       "   'photos': [{'height': 4032,\n",
       "     'html_attributions': ['<a href=\"https://maps.google.com/maps/contrib/102178337831444206920\">Joe Tschopp</a>'],\n",
       "     'photo_reference': 'AUjq9jm90QZommYsLi-8gk4RppbLJh92BoyKokH3qcs7M4sAgb0_3d-bLTtEPg631outyhzsO5TVd6ROADYI6z8ZMRH32GFwopWPOzn-aROnYOu_VNgSZkPUAJyk9cSpyfp8RgPEVvX3Vge1__2UVGOxORejyfnAUjn4lWX169BokWEm7RQ',\n",
       "     'width': 3024}],\n",
       "   'place_id': 'ChIJ4dSQxqHz2YkR5mol6GUNmRI',\n",
       "   'plus_code': {'compound_code': '2VR7+PM Syracuse, New York',\n",
       "    'global_code': '87M52VR7+PM'},\n",
       "   'price_level': 1,\n",
       "   'rating': 3.6,\n",
       "   'reference': 'ChIJ4dSQxqHz2YkR5mol6GUNmRI',\n",
       "   'scope': 'GOOGLE',\n",
       "   'types': ['restaurant', 'food', 'point_of_interest', 'establishment'],\n",
       "   'user_ratings_total': 617,\n",
       "   'vicinity': '129 Marshall St, Syracuse'},\n",
       "  {'business_status': 'OPERATIONAL',\n",
       "   'geometry': {'location': {'lat': 43.0425401, 'lng': -76.1602724},\n",
       "    'viewport': {'northeast': {'lat': 43.04388717989272,\n",
       "      'lng': -76.15898282010725},\n",
       "     'southwest': {'lat': 43.04118752010728, 'lng': -76.1616824798927}}},\n",
       "   'icon': 'https://maps.gstatic.com/mapfiles/place_api/icons/v1/png_71/restaurant-71.png',\n",
       "   'icon_background_color': '#FF9E67',\n",
       "   'icon_mask_base_uri': 'https://maps.gstatic.com/mapfiles/place_api/icons/v2/restaurant_pinlet',\n",
       "   'name': 'El Trailer del Sabor',\n",
       "   'photos': [{'height': 4032,\n",
       "     'html_attributions': ['<a href=\"https://maps.google.com/maps/contrib/113692392201306847843\">A Google User</a>'],\n",
       "     'photo_reference': 'AUjq9jmTaOJuI9dsD24KX-nrulav4pR5FOqAdTV9LlxazvPfOU8iqOddtJ-b5DcE2XzXkjxYJWcfJEdTYd-AwAoYBOMEChJFpb3swQwX6OZZGq4jwKWQRwzJyTMu7FKX25pxxmFGkZvNbIg1TppokjiDhPWQf_f6Yo-pEaL-v9ns9aGVwN_u',\n",
       "     'width': 3024}],\n",
       "   'place_id': 'ChIJITb9jZDz2YkRcCCZiHm7-SA',\n",
       "   'plus_code': {'compound_code': '2RVQ+2V Syracuse, New York',\n",
       "    'global_code': '87M52RVQ+2V'},\n",
       "   'rating': 5,\n",
       "   'reference': 'ChIJITb9jZDz2YkRcCCZiHm7-SA',\n",
       "   'scope': 'GOOGLE',\n",
       "   'types': ['restaurant', 'food', 'point_of_interest', 'establishment'],\n",
       "   'user_ratings_total': 2,\n",
       "   'vicinity': 'Corner of Seymour st and, Niagara St, Syracuse'},\n",
       "  {'business_status': 'OPERATIONAL',\n",
       "   'geometry': {'location': {'lat': 43.0469556, 'lng': -76.15203439999999},\n",
       "    'viewport': {'northeast': {'lat': 43.04822542989272,\n",
       "      'lng': -76.15079137010727},\n",
       "     'southwest': {'lat': 43.04552577010728, 'lng': -76.15349102989272}}},\n",
       "   'icon': 'https://maps.gstatic.com/mapfiles/place_api/icons/v1/png_71/cafe-71.png',\n",
       "   'icon_background_color': '#FF9E67',\n",
       "   'icon_mask_base_uri': 'https://maps.gstatic.com/mapfiles/place_api/icons/v2/cafe_pinlet',\n",
       "   'name': 'Cafe Kubal',\n",
       "   'opening_hours': {'open_now': True},\n",
       "   'photos': [{'height': 2000,\n",
       "     'html_attributions': ['<a href=\"https://maps.google.com/maps/contrib/108800671626380092223\">Cafe Kubal</a>'],\n",
       "     'photo_reference': 'AUjq9jnj2hDe4nT2DD1_KxPbwWc1OFDb0l8WR5e6VH0l01ayZF0-oDgC6Fcd3hj2TaFHKxmHD5itwNWeamXxx9trmIF3uxlWuk0gbgX6GcDsvU3FoZC3VS0WzCdgufiQVNZrlrD_3vmYDHp_WWgW_mwYUYQLwgSGxNp7M016CLMmM5VGQqkL',\n",
       "     'width': 2000}],\n",
       "   'place_id': 'ChIJy68s2L7z2YkRTgAMDLYQqkA',\n",
       "   'plus_code': {'compound_code': '2RWX+Q5 Syracuse, New York',\n",
       "    'global_code': '87M52RWX+Q5'},\n",
       "   'price_level': 2,\n",
       "   'rating': 4.4,\n",
       "   'reference': 'ChIJy68s2L7z2YkRTgAMDLYQqkA',\n",
       "   'scope': 'GOOGLE',\n",
       "   'types': ['cafe',\n",
       "    'bar',\n",
       "    'restaurant',\n",
       "    'food',\n",
       "    'store',\n",
       "    'point_of_interest',\n",
       "    'establishment'],\n",
       "   'user_ratings_total': 592,\n",
       "   'vicinity': '401 S Salina St, Syracuse'},\n",
       "  {'business_status': 'OPERATIONAL',\n",
       "   'geometry': {'location': {'lat': 43.0416872, 'lng': -76.13752170000001},\n",
       "    'viewport': {'northeast': {'lat': 43.04300912989272,\n",
       "      'lng': -76.13634167010729},\n",
       "     'southwest': {'lat': 43.04030947010728, 'lng': -76.13904132989272}}},\n",
       "   'icon': 'https://maps.gstatic.com/mapfiles/place_api/icons/v1/png_71/restaurant-71.png',\n",
       "   'icon_background_color': '#FF9E67',\n",
       "   'icon_mask_base_uri': 'https://maps.gstatic.com/mapfiles/place_api/icons/v2/restaurant_pinlet',\n",
       "   'name': \"Barado's on the Hill\",\n",
       "   'opening_hours': {'open_now': False},\n",
       "   'photos': [{'height': 3024,\n",
       "     'html_attributions': ['<a href=\"https://maps.google.com/maps/contrib/105309386944193496786\">A Google User</a>'],\n",
       "     'photo_reference': 'AUjq9jn-VlWQwSc290CgxdSthFqL8vGOj3EDxCIALvHvYfB4u8PvpnTYQR7xOuba99fWGB7_t0h7BV3wxLs19S408Xwix7231w6EQ09WByaRnWozEji4oK_KPBlZ2I4Y1sJbKqX5bMHMiVDgP5TU4S5jxz9EwzJc7UWpRmIjmqLXYTYYr7HQ',\n",
       "     'width': 4032}],\n",
       "   'place_id': 'ChIJW8WIsPrz2YkRUbuVqDxGo-A',\n",
       "   'plus_code': {'compound_code': '2VR6+MX Syracuse, New York',\n",
       "    'global_code': '87M52VR6+MX'},\n",
       "   'rating': 3.7,\n",
       "   'reference': 'ChIJW8WIsPrz2YkRUbuVqDxGo-A',\n",
       "   'scope': 'GOOGLE',\n",
       "   'types': ['restaurant', 'food', 'point_of_interest', 'establishment'],\n",
       "   'user_ratings_total': 3,\n",
       "   'vicinity': '725 Irving Ave, Syracuse'}],\n",
       " 'status': 'OK'}"
      ]
     },
     "execution_count": 17,
     "metadata": {},
     "output_type": "execute_result"
    }
   ],
   "source": [
    "# PROMPT 12 - Code again!!!\n",
    "\n",
    "# geocoded Syracuse, NY for you....\n",
    "lat = 43.0481  \n",
    "lng = -76.1474\n",
    "place_type = 'restaraunt'\n",
    "search = \"burrito\"\n",
    "\n",
    "url = 'https://api.ist256.com/google/places/search' #Endpoint\n",
    "params = {\n",
    "    'keyword' : search,\n",
    "    'type' : place_type,\n",
    "    'lat' : lat,\n",
    "    'lng' : lng\n",
    "}  # inputs (query)\n",
    "headers = {\n",
    "    'accept': 'application/json', \n",
    "    'Api-Key': '751838d6b9978955679461c80a7df60bde4f093d'\n",
    "} # inputs (header)\n",
    "response = requests.get(url, params=params, headers=headers)\n",
    "response.raise_for_status()\n",
    "results = response.json()\n",
    "    \n",
    "results #output"
   ]
  },
  {
   "cell_type": "markdown",
   "metadata": {},
   "source": [
    "## Step 4b: Refactor into function `googlePlacesSearch()`"
   ]
  },
  {
   "cell_type": "code",
   "execution_count": 34,
   "metadata": {},
   "outputs": [],
   "source": [
    "# PROMPT 13 - refactor the code in prompt 12 into a function\n",
    "def googlePlacesSearch(search, place_type, lat, lng):\n",
    "    \n",
    "    url = 'https://api.ist256.com/google/places/search' #Endpoint\n",
    "    params = {\n",
    "        'keyword' : search,\n",
    "        'type' : place_type,\n",
    "        'lat' : lat,\n",
    "        'lng' : lng\n",
    "    }  # inputs (query)\n",
    "    headers = {\n",
    "        'accept': 'application/json', \n",
    "        'Api-Key': '751838d6b9978955679461c80a7df60bde4f093d'\n",
    "    } # inputs (header)\n",
    "    response = requests.get(url, params=params, headers=headers)\n",
    "    response.raise_for_status()\n",
    "    results = response.json()\n",
    "\n",
    "    places = results['results']\n",
    "    \n",
    "    return places"
   ]
  },
  {
   "cell_type": "markdown",
   "metadata": {},
   "source": [
    "## Step 4c: `googlePlacesSearch()` Test: Call the function"
   ]
  },
  {
   "cell_type": "code",
   "execution_count": null,
   "metadata": {},
   "outputs": [],
   "source": [
    "# PROMPT 14 - call your function using lat,lng and place_type from prompt 13\n",
    "r = results['results'][0]\n",
    "\n",
    "for r in results['results']:\n",
    "    print(r['name'])\n",
    "    print(r['rating'])\n",
    "    if r.get(\"price_level\", None) != None:\n",
    "        print(\"$\"*r['price_level'])"
   ]
  },
  {
   "cell_type": "markdown",
   "metadata": {},
   "source": [
    "## Top-Down: Put it all together\n",
    "\n",
    "\n",
    "Get it all working in this cell. No need to copy the function definitions.\n",
    "\n"
   ]
  },
  {
   "cell_type": "code",
   "execution_count": null,
   "metadata": {},
   "outputs": [],
   "source": [
    "# PROMPT 15\n",
    "print(\"Google Places Search\")\n",
    "# TODO: Implement steps 1,2,3 and 4 \n",
    "# 3 and 4 are function calls!!!\n"
   ]
  },
  {
   "cell_type": "markdown",
   "metadata": {},
   "source": [
    "## Time for Jazz Hands... IPython interact!\n",
    "\n",
    "Replace the inputs with interact manual!!!!"
   ]
  },
  {
   "cell_type": "code",
   "execution_count": 39,
   "metadata": {
    "scrolled": true
   },
   "outputs": [
    {
     "data": {
      "text/html": [
       "<h1>Fudge Food Finder</h1>"
      ],
      "text/plain": [
       "<IPython.core.display.HTML object>"
      ]
     },
     "metadata": {},
     "output_type": "display_data"
    },
    {
     "data": {
      "application/vnd.jupyter.widget-view+json": {
       "model_id": "6c5b102f50534e9483320248b08f5324",
       "version_major": 2,
       "version_minor": 0
      },
      "text/plain": [
       "interactive(children=(Text(value='', description='location'), Text(value='', description='food_type'), Button(…"
      ]
     },
     "metadata": {},
     "output_type": "display_data"
    }
   ],
   "source": [
    "from IPython.display import display,HTML\n",
    "from ipywidgets import interact_manual\n",
    "\n",
    "display(HTML(\"<h1>Fudge Food Finder</h1>\"))\n",
    "@interact_manual(location=\"\", food_type=\"\")\n",
    "def search(location, food_type):\n",
    "    # geocode the location to a lat/long\n",
    "    latlong = googleGeocode(location)\n",
    "    # with that lat long we want to search for places type \"food\"\n",
    "    places = googlePlacesSearch(food_type, \"food\", latlong['lat'], latlong['lng'])\n",
    "    for place in places:\n",
    "        name = place['name']\n",
    "        rating = place.get('rating', \"No Rating\")\n",
    "        if place.get(\"price_level\", None) != None:\n",
    "            price_level = \"$\" *place[\"price_level\"]\n",
    "        else:\n",
    "            price_level = \"No Pricing\"\n",
    "        \n",
    "        display(HTML(f\"<h3>{name}</h3>\"))\n",
    "        display(HTML(f\"<p>Rating: {rating}\"))\n",
    "        display(HTML(f\"<p>Price: {price_level}\"))\n"
   ]
  },
  {
   "cell_type": "code",
   "execution_count": 37,
   "metadata": {},
   "outputs": [],
   "source": [
    "googlePlacesSearch?\n"
   ]
  },
  {
   "cell_type": "code",
   "execution_count": 40,
   "metadata": {},
   "outputs": [
    {
     "ename": "Exception",
     "evalue": "ERROR: Thie file SmallGroup-HTTP-Copy1.ipynb is not on the assignment list. Please check the assignment you are supposed to submit.",
     "output_type": "error",
     "traceback": [
      "\u001b[0;31m---------------------------------------------------------------------------\u001b[0m",
      "\u001b[0;31mException\u001b[0m                                 Traceback (most recent call last)",
      "\u001b[0;32m/tmp/ipykernel_260/580039913.py\u001b[0m in \u001b[0;36m<module>\u001b[0;34m\u001b[0m\n\u001b[1;32m      1\u001b[0m \u001b[0;31m# run this code to turn in your work!\u001b[0m\u001b[0;34m\u001b[0m\u001b[0;34m\u001b[0m\u001b[0m\n\u001b[1;32m      2\u001b[0m \u001b[0;32mfrom\u001b[0m \u001b[0mcoursetools\u001b[0m\u001b[0;34m.\u001b[0m\u001b[0msubmission\u001b[0m \u001b[0;32mimport\u001b[0m \u001b[0mSubmission\u001b[0m\u001b[0;34m\u001b[0m\u001b[0;34m\u001b[0m\u001b[0m\n\u001b[0;32m----> 3\u001b[0;31m \u001b[0mSubmission\u001b[0m\u001b[0;34m(\u001b[0m\u001b[0;34m)\u001b[0m\u001b[0;34m.\u001b[0m\u001b[0msubmit_now\u001b[0m\u001b[0;34m(\u001b[0m\u001b[0;34m)\u001b[0m\u001b[0;34m\u001b[0m\u001b[0;34m\u001b[0m\u001b[0m\n\u001b[0m",
      "\u001b[0;32m/opt/conda/lib/python3.9/site-packages/coursetools/submission.py\u001b[0m in \u001b[0;36msubmit_now\u001b[0;34m(self, ui, header_text, save_warning)\u001b[0m\n\u001b[1;32m     23\u001b[0m     \u001b[0;32mdef\u001b[0m \u001b[0msubmit_now\u001b[0m\u001b[0;34m(\u001b[0m\u001b[0mself\u001b[0m\u001b[0;34m,\u001b[0m  \u001b[0mui\u001b[0m\u001b[0;34m=\u001b[0m\u001b[0;32mTrue\u001b[0m\u001b[0;34m,\u001b[0m \u001b[0mheader_text\u001b[0m \u001b[0;34m=\u001b[0m \u001b[0;34m\"Submission Details\"\u001b[0m\u001b[0;34m,\u001b[0m \u001b[0msave_warning\u001b[0m \u001b[0;34m=\u001b[0m \u001b[0;32mTrue\u001b[0m\u001b[0;34m)\u001b[0m\u001b[0;34m:\u001b[0m\u001b[0;34m\u001b[0m\u001b[0;34m\u001b[0m\u001b[0m\n\u001b[1;32m     24\u001b[0m         \u001b[0;32mif\u001b[0m \u001b[0;32mnot\u001b[0m \u001b[0mself\u001b[0m\u001b[0;34m.\u001b[0m\u001b[0menv\u001b[0m\u001b[0;34m.\u001b[0m\u001b[0mis_assignment\u001b[0m\u001b[0;34m:\u001b[0m\u001b[0;34m\u001b[0m\u001b[0;34m\u001b[0m\u001b[0m\n\u001b[0;32m---> 25\u001b[0;31m             \u001b[0;32mraise\u001b[0m \u001b[0mException\u001b[0m\u001b[0;34m(\u001b[0m\u001b[0;34mf\"ERROR: Thie file {self.env.filename} is not on the assignment list. Please check the assignment you are supposed to submit.\"\u001b[0m\u001b[0;34m)\u001b[0m\u001b[0;34m\u001b[0m\u001b[0;34m\u001b[0m\u001b[0m\n\u001b[0m\u001b[1;32m     26\u001b[0m \u001b[0;34m\u001b[0m\u001b[0m\n\u001b[1;32m     27\u001b[0m         \u001b[0;32mif\u001b[0m \u001b[0;32mnot\u001b[0m \u001b[0mself\u001b[0m\u001b[0;34m.\u001b[0m\u001b[0menv\u001b[0m\u001b[0;34m.\u001b[0m\u001b[0mis_student\u001b[0m\u001b[0;34m:\u001b[0m\u001b[0;34m\u001b[0m\u001b[0;34m\u001b[0m\u001b[0m\n",
      "\u001b[0;31mException\u001b[0m: ERROR: Thie file SmallGroup-HTTP-Copy1.ipynb is not on the assignment list. Please check the assignment you are supposed to submit."
     ]
    }
   ],
   "source": [
    "# run this code to turn in your work!\n",
    "from coursetools.submission import Submission\n",
    "Submission().submit_now()"
   ]
  },
  {
   "cell_type": "code",
   "execution_count": null,
   "metadata": {},
   "outputs": [],
   "source": []
  }
 ],
 "metadata": {
  "anaconda-cloud": {},
  "kernelspec": {
   "display_name": "Python 3 (ipykernel)",
   "language": "python",
   "name": "python3"
  },
  "language_info": {
   "codemirror_mode": {
    "name": "ipython",
    "version": 3
   },
   "file_extension": ".py",
   "mimetype": "text/x-python",
   "name": "python",
   "nbconvert_exporter": "python",
   "pygments_lexer": "ipython3",
   "version": "3.9.7"
  },
  "toc": {
   "base_numbering": 1,
   "nav_menu": {},
   "number_sections": false,
   "sideBar": false,
   "skip_h1_title": false,
   "title_cell": "Table of Contents",
   "title_sidebar": "Contents",
   "toc_cell": false,
   "toc_position": {},
   "toc_section_display": false,
   "toc_window_display": false
  },
  "varInspector": {
   "cols": {
    "lenName": 16,
    "lenType": 16,
    "lenVar": 40
   },
   "kernels_config": {
    "python": {
     "delete_cmd_postfix": "",
     "delete_cmd_prefix": "del ",
     "library": "var_list.py",
     "varRefreshCmd": "print(var_dic_list())"
    },
    "r": {
     "delete_cmd_postfix": ") ",
     "delete_cmd_prefix": "rm(",
     "library": "var_list.r",
     "varRefreshCmd": "cat(var_dic_list()) "
    }
   },
   "types_to_exclude": [
    "module",
    "function",
    "builtin_function_or_method",
    "instance",
    "_Feature"
   ],
   "window_display": false
  }
 },
 "nbformat": 4,
 "nbformat_minor": 1
}
