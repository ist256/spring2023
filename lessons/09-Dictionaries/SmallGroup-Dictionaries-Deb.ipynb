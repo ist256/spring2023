{
 "cells": [
  {
   "cell_type": "markdown",
   "metadata": {},
   "source": [
    "<img src=\"https://i.imgur.com/RUdcrwV.png\">"
   ]
  },
  {
   "cell_type": "markdown",
   "metadata": {},
   "source": [
    "# Now You Code In Class : Fudgemart.com Product Catalog Browser\n",
    "\n",
    "In this example we will implement a better product catalog browser for Fudgemart, the fictitious big-box retail knock off. \n",
    "\n",
    "Along the way you learn a couple of new `ipywidgets` tricks. \n",
    "\n",
    "For the product catalog, we will use `fudgemart-products.json`. Similar to the lab, we will de-serialize this file into a Python `list` of `dict`.\n",
    "\n",
    "Fudgemart would like the product catalog searchable by:\n",
    "\n",
    "- product category (a drop down) default is `ANY` which shows all products.\n",
    "- product name (a text box) performs a case-insensitive match of any part of the product name. for example `lcd` would match the product `56 inch LCD TV` in addition to `LCD display`\n",
    "- product price (within a range from low to high)\n",
    "\n",
    "\n",
    "### For this exercise we will take a bottom up approach\n",
    "\n",
    "First we will write the functionality we need, then we will attempt to combine it into a program. Often you take the bottom up approach when you don't have an idea how you want the final program to come together but you do know what pieces will be needed. \n",
    "\n",
    "In this bottom up appraoch you have identified the following functions you will need:\n",
    "\n",
    " 1. `loadProductCatalog()`\n",
    " 2. `getProductCategories()`\n",
    " 3. `filterByCategory()`\n",
    " 4. `filterByName()`\n",
    " 5. `filterByPrice()`\n",
    " \n",
    " \n",
    " NOTE: Same approach as the previous homework except we will use JSON de-serialization.\n",
    " \n",
    " ### What the @!%#? is serialization / deserialization\n",
    " \n",
    " It has nothing to do with Raisin Bran!\n",
    " \n",
    " 1. To `serialize` means to take a complex in memory data structure and create a string representation of it. \n",
    " 2. To `deserialize` we do the reverse, create an in memory data structrure from a string representation.\n",
    " 3. Performing serialization/deserialization requires the string to be in a common format like HTML, CSV, JSON, or XML. There are also specific micro-formats like `.ical`, `.atom`, and  `.vcard`. It is the implied structure of the format itself that makes it `serializable`. \n",
    " \n"
   ]
  },
  {
   "cell_type": "code",
   "execution_count": 1,
   "metadata": {},
   "outputs": [
    {
     "name": "stdout",
     "output_type": "stream",
     "text": [
      "  % Total    % Received % Xferd  Average Speed   Time    Time     Time  Current\r\n",
      "                                 Dload  Upload   Total   Spent    Left  Speed\r\n",
      "\r",
      "  0     0    0     0    0     0      0      0 --:--:-- --:--:-- --:--:--     0\r",
      "100 11240  100 11240    0     0   289k      0 --:--:-- --:--:-- --:--:--  296k\r\n"
     ]
    }
   ],
   "source": [
    "!curl https://raw.githubusercontent.com/mafudge/datasets/master/ist256/09-Dictionaries/fudgemart-products.json -o fudgemart-products.json"
   ]
  },
  {
   "cell_type": "markdown",
   "metadata": {},
   "source": [
    "## Step 1: `loadProductCatalog()` \n",
    "\n",
    "This function is simliar to the one in the last part of the lab. It will load and de-serialize the `fudgemart-products.json` file into a python list of dictionary. It has been Provided for you.\n"
   ]
  },
  {
   "cell_type": "code",
   "execution_count": 2,
   "metadata": {},
   "outputs": [],
   "source": [
    "def loadProductCatalog():\n",
    "    import json\n",
    "    with open('fudgemart-products.json','r') as f:\n",
    "        prods = json.load(f) # deserializer\n",
    "        return prods\n"
   ]
  },
  {
   "cell_type": "markdown",
   "metadata": {},
   "source": [
    "## Step 1: `loadProductCatalog()` Test"
   ]
  },
  {
   "cell_type": "code",
   "execution_count": 3,
   "metadata": {},
   "outputs": [
    {
     "data": {
      "text/plain": [
       "[{'product_id': 1,\n",
       "  'product_category': 'Hardware',\n",
       "  'product_name': 'Straight Claw Hammer',\n",
       "  'product_retail_price': 15.95,\n",
       "  'vendor_name': 'Stanlee',\n",
       "  'vendor_website': None},\n",
       " {'product_id': 2,\n",
       "  'product_category': 'Hardware',\n",
       "  'product_name': 'Sledge Hammer',\n",
       "  'product_retail_price': 21.95,\n",
       "  'vendor_name': 'Stanlee',\n",
       "  'vendor_website': None},\n",
       " {'product_id': 3,\n",
       "  'product_category': 'Hardware',\n",
       "  'product_name': 'Rip Claw Hammer',\n",
       "  'product_retail_price': 19.95,\n",
       "  'vendor_name': 'Stanlee',\n",
       "  'vendor_website': None}]"
      ]
     },
     "execution_count": 3,
     "metadata": {},
     "output_type": "execute_result"
    }
   ],
   "source": [
    "prods = loadProductCatalog()\n",
    "prods[0:3]"
   ]
  },
  {
   "cell_type": "code",
   "execution_count": 5,
   "metadata": {},
   "outputs": [
    {
     "data": {
      "text/plain": [
       "'Running Pants'"
      ]
     },
     "execution_count": 5,
     "metadata": {},
     "output_type": "execute_result"
    }
   ],
   "source": [
    "prods[4]['product_name']"
   ]
  },
  {
   "cell_type": "markdown",
   "metadata": {},
   "source": [
    "## Step 2a: `getProductCategories()` Problem Analysis\n",
    "\n",
    "This function should return a list of unique, sorted product categories from the product catalog, based on the input of a list of all products. The first item in the returned  list should be `'ANY'`.\n",
    "\n",
    "INPUTS:\n",
    "\n",
    "    PROMPT 1\n",
    "    \n",
    "OUTPUTS: \n",
    "\n",
    "    PROMPT 2\n",
    "    \n",
    "ALGORITHM:\n",
    "\n",
    "    PROMPT 3\n",
    "    \n",
    "How do we test this to make sure its correct?\n",
    "\n",
    "    List should be ['ANY', 'Clothing', 'Electronics', 'Hardware', 'Housewares', 'Sporting Goods']\n",
    "    \n",
    "## Step 2b: `getProductCategories()` Code"
   ]
  },
  {
   "cell_type": "code",
   "execution_count": 29,
   "metadata": {},
   "outputs": [
    {
     "data": {
      "text/plain": [
       "['ANY', 'Clothing', 'Electronics', 'Hardware', 'Housewares', 'Sporting Goods']"
      ]
     },
     "execution_count": 29,
     "metadata": {},
     "output_type": "execute_result"
    }
   ],
   "source": [
    "# PROMPT 4\n",
    "def getProductCategories(prods):\n",
    "    prodcats = []\n",
    "    \n",
    "    for p in prods:\n",
    "        cat = p['product_category']\n",
    "        if cat not in prodcats:\n",
    "            prodcats.append(cat)\n",
    "    \n",
    "    prodcats.sort()\n",
    "    \n",
    "    prodcats.insert(0, \"ANY\")\n",
    "    \n",
    "    return prodcats\n",
    "\n",
    "# call function\n",
    "getProductCategories(prods)"
   ]
  },
  {
   "cell_type": "code",
   "execution_count": 32,
   "metadata": {},
   "outputs": [
    {
     "data": {
      "text/plain": [
       "['ANY', 'Clothing', 'Electronics', 'Hardware', 'Housewares', 'Sporting Goods']"
      ]
     },
     "execution_count": 32,
     "metadata": {},
     "output_type": "execute_result"
    }
   ],
   "source": [
    "def getProductCategories(prods):\n",
    "    prodcats = []\n",
    "    for p in prods:\n",
    "        cat = p[\"product_category\"]\n",
    "        if cat not in prodcats:\n",
    "            prodcats.append(cat)\n",
    "            \n",
    "    prodcats.sort()\n",
    "    \n",
    "    prodcats.insert(0, \"ANY\")\n",
    "    \n",
    "    return prodcats\n",
    "\n",
    "getProductCategories(prods)"
   ]
  },
  {
   "cell_type": "code",
   "execution_count": 16,
   "metadata": {},
   "outputs": [
    {
     "data": {
      "text/plain": [
       "['Hardware', 'Clothing', 'Electronics', 'Housewares', 'Sporting Goods']"
      ]
     },
     "execution_count": 16,
     "metadata": {},
     "output_type": "execute_result"
    }
   ],
   "source": [
    "#output\n",
    "prodcats = []\n",
    "#input\n",
    "#prods\n",
    "\n",
    "#code\n",
    "for p in prods:\n",
    "    cat = p['product_category']\n",
    "    if cat not in prodcats:\n",
    "        prodcats.append(cat)\n",
    "\n",
    "prodcats"
   ]
  },
  {
   "cell_type": "code",
   "execution_count": 6,
   "metadata": {},
   "outputs": [
    {
     "data": {
      "text/plain": [
       "dict_keys(['product_id', 'product_category', 'product_name', 'product_retail_price', 'vendor_name', 'vendor_website'])"
      ]
     },
     "execution_count": 6,
     "metadata": {},
     "output_type": "execute_result"
    }
   ],
   "source": [
    "prods[0].keys()"
   ]
  },
  {
   "cell_type": "markdown",
   "metadata": {},
   "source": [
    "## Step 2c: `getProductCategories()` Test"
   ]
  },
  {
   "cell_type": "code",
   "execution_count": null,
   "metadata": {},
   "outputs": [],
   "source": [
    "cats = getProductCategories(prods)\n",
    "# use assert"
   ]
  },
  {
   "cell_type": "markdown",
   "metadata": {},
   "source": [
    "## Step3a: `filterByCategory()` Problem Analysis\n",
    "\n",
    "When given a list of products and a category as input, this function should return only products from the list where the category matches the input category. if the input category is ANY, all should be returned.\n",
    "\n",
    "INPUTS:\n",
    "\n",
    "    PROMPT 5\n",
    "    \n",
    "OUTPUTS: \n",
    "\n",
    "    PROMPT 6\n",
    "    \n",
    "ALGORITHM:\n",
    "\n",
    "    PROMPT 7\n",
    "    \n",
    "How do we test this to make sure its correct?\n",
    "\n",
    "    PROMPT 8\n",
    "    \n",
    "## Step 3b: `filterByCategory()` Code"
   ]
  },
  {
   "cell_type": "code",
   "execution_count": null,
   "metadata": {},
   "outputs": [],
   "source": [
    "# PROMPT 8\n",
    "def filterByCategory(prods, category):\n",
    "    pass"
   ]
  },
  {
   "cell_type": "markdown",
   "metadata": {},
   "source": [
    "## Step 3c: `filterByCategory()` Test"
   ]
  },
  {
   "cell_type": "code",
   "execution_count": null,
   "metadata": {},
   "outputs": [],
   "source": [
    "# PROMPT 10\n"
   ]
  },
  {
   "cell_type": "markdown",
   "metadata": {},
   "source": [
    "## Step4a: `filterByName()` Problem Analysis\n",
    "\n",
    "When given a list of proucts as a string text as input, this function should return only the products where the input text matches any part of the product's name (case-insensitive)\n",
    "\n",
    "\n",
    "INPUTS:\n",
    "\n",
    "    PROMPT 11\n",
    "    \n",
    "OUTPUTS: \n",
    "\n",
    "    PROMPT 12\n",
    "    \n",
    "ALGORITHM:\n",
    "\n",
    "    PROMPT 13\n",
    "    \n",
    "How do we test this to make sure its correct?\n",
    "\n",
    "    PROMPT 14\n",
    "    \n",
    "## Step 4b: `filterByName()` Code"
   ]
  },
  {
   "cell_type": "code",
   "execution_count": null,
   "metadata": {},
   "outputs": [],
   "source": [
    "# PROMPT 15\n",
    "def filterByName(prods, search):\n",
    "    pass"
   ]
  },
  {
   "cell_type": "markdown",
   "metadata": {},
   "source": [
    "## Step 4c: `filterByName()` Test"
   ]
  },
  {
   "cell_type": "code",
   "execution_count": null,
   "metadata": {},
   "outputs": [],
   "source": [
    "# PROMPT 16\n"
   ]
  },
  {
   "cell_type": "markdown",
   "metadata": {},
   "source": [
    "## Step5a: `filterByPrice()` Problem Analysis\n",
    "\n",
    "When given a list of proucts an a high and low number, this function should return only the products where the retail price falls between the high and low values. \n",
    "\n",
    "\n",
    "INPUTS:\n",
    "\n",
    "    PROMPT 17\n",
    "    \n",
    "OUTPUTS: \n",
    "\n",
    "    PROMPT 18\n",
    "    \n",
    "ALGORITHM:\n",
    "\n",
    "    PROMPT 19\n",
    "    \n",
    "How do we test this to make sure its correct?\n",
    "\n",
    "    PROMPT 20\n",
    "    \n",
    "## Step 5b: `filterByPrice()` Code"
   ]
  },
  {
   "cell_type": "code",
   "execution_count": null,
   "metadata": {},
   "outputs": [],
   "source": [
    "#PROMPT 21\n",
    "def filterByPrice(prods,low,high):\n",
    "    pass"
   ]
  },
  {
   "cell_type": "markdown",
   "metadata": {},
   "source": [
    "## Step 4c: `filterByPrice()` Test"
   ]
  },
  {
   "cell_type": "code",
   "execution_count": null,
   "metadata": {},
   "outputs": [],
   "source": [
    "# PROMPT 22\n"
   ]
  },
  {
   "cell_type": "markdown",
   "metadata": {},
   "source": [
    "## This function draws the catalog as a table.\n",
    "\n",
    "We will learn more about this when we get to the pandas unit."
   ]
  },
  {
   "cell_type": "code",
   "execution_count": null,
   "metadata": {},
   "outputs": [],
   "source": [
    "def drawTable(prods):\n",
    "    import pandas as pd\n",
    "    df = pd.DataFrame(prods)\n",
    "    return df"
   ]
  },
  {
   "cell_type": "code",
   "execution_count": null,
   "metadata": {},
   "outputs": [],
   "source": []
  },
  {
   "cell_type": "code",
   "execution_count": null,
   "metadata": {},
   "outputs": [],
   "source": []
  },
  {
   "cell_type": "code",
   "execution_count": 46,
   "metadata": {},
   "outputs": [
    {
     "data": {
      "text/plain": [
       "True"
      ]
     },
     "execution_count": 46,
     "metadata": {},
     "output_type": "execute_result"
    }
   ],
   "source": [
    "prod_name = \"Wool Socks\"\n",
    "name = \"ol \"\n",
    "name in prod_name #  works!\n",
    "prod_name.find(name)>=0"
   ]
  },
  {
   "cell_type": "markdown",
   "metadata": {},
   "source": [
    "## Putting it  all together\n",
    "\n",
    "Let's code the whole thing together:\n",
    "\n",
    "    1. load product catalog\n",
    "    2. get product categories\n",
    "    3. interaction\n",
    "        3.1 filter by category\n",
    "        3.2 then filter by name\n",
    "        3.3 then filter by price\n",
    "        3.4 then display the results as a table"
   ]
  },
  {
   "cell_type": "code",
   "execution_count": 49,
   "metadata": {},
   "outputs": [
    {
     "data": {
      "text/html": [
       "<h1>Fudgemart Products Search</h1>"
      ],
      "text/plain": [
       "<IPython.core.display.HTML object>"
      ]
     },
     "metadata": {},
     "output_type": "display_data"
    },
    {
     "data": {
      "application/vnd.jupyter.widget-view+json": {
       "model_id": "c713189b7fe046bb94524c2f1356cf0c",
       "version_major": 2,
       "version_minor": 0
      },
      "text/plain": [
       "interactive(children=(Dropdown(description='category', options=('ANY', 'Clothing', 'Electronics', 'Hardware', …"
      ]
     },
     "metadata": {},
     "output_type": "display_data"
    }
   ],
   "source": [
    "from IPython.display import display, HTML\n",
    "from ipywidgets import widgets, interact\n",
    "\n",
    "# PROMPT 23: TODO Steps #1 and 2\n",
    "prods = loadProductCatalog()\n",
    "cats = getProductCategories(prods)\n",
    "display(HTML(\"<h1>Fudgemart Products Search</h1>\"))\n",
    "@interact(category=cats,name=\"\",price=widgets.IntRangeSlider(value=[0, 1900],min=0, max=1900., step=10))\n",
    "def main(category,name, price):\n",
    "    # PROMPT 24: TODO STEP 3\n",
    "    for p in prods:\n",
    "        if p['product_category'] == category or category=='ANY':\n",
    "            if p['product_name'].find(name)>=0:\n",
    "                print(p['product_name'],p['product_retail_price'])"
   ]
  },
  {
   "cell_type": "code",
   "execution_count": 55,
   "metadata": {},
   "outputs": [
    {
     "data": {
      "text/html": [
       "<h1>Fudgemart Products Search</h1>"
      ],
      "text/plain": [
       "<IPython.core.display.HTML object>"
      ]
     },
     "metadata": {},
     "output_type": "display_data"
    },
    {
     "data": {
      "application/vnd.jupyter.widget-view+json": {
       "model_id": "e6758195297945c296db2bce7f3cf621",
       "version_major": 2,
       "version_minor": 0
      },
      "text/plain": [
       "interactive(children=(Dropdown(description='category', options=('ANY', 'Clothing', 'Electronics', 'Hardware', …"
      ]
     },
     "metadata": {},
     "output_type": "display_data"
    }
   ],
   "source": [
    "from IPython.display import display, HTML\n",
    "from ipywidgets import widgets, interact\n",
    "\n",
    "# PROMPT 23: TODO Steps #1 and 2\n",
    "prods = loadProductCatalog()\n",
    "cats = getProductCategories(prods)\n",
    "display(HTML(\"<h1>Fudgemart Products Search</h1>\"))\n",
    "@interact(category=cats,name=\"\",price=widgets.IntRangeSlider(value=[0, 1900],min=0, max=1900, step=10))\n",
    "def main(category,name, price):\n",
    "    # PROMPT 24: TODO STEP 3\n",
    "    print(\"LOW\",price[0],\"HIGH\", price[1] )\n",
    "    for p in prods:\n",
    "        if p['product_category'] == category or category=='ANY':\n",
    "            if p['product_name'].find(name)>=0:\n",
    "                if price[0] <= p['product_retail_price'] <= price[1]:\n",
    "                    print(p['product_name'],p['product_retail_price'])"
   ]
  },
  {
   "cell_type": "code",
   "execution_count": 54,
   "metadata": {},
   "outputs": [
    {
     "ename": "TypeError",
     "evalue": "argument of type 'int' is not iterable",
     "output_type": "error",
     "traceback": [
      "\u001b[0;31m---------------------------------------------------------------------------\u001b[0m",
      "\u001b[0;31mTypeError\u001b[0m                                 Traceback (most recent call last)",
      "\u001b[0;32m/tmp/ipykernel_663/535499143.py\u001b[0m in \u001b[0;36m<module>\u001b[0;34m\u001b[0m\n\u001b[0;32m----> 1\u001b[0;31m \u001b[0;36m4\u001b[0m \u001b[0;32min\u001b[0m \u001b[0;36m1\u001b[0m \u001b[0;32mand\u001b[0m \u001b[0;36m10\u001b[0m\u001b[0;34m\u001b[0m\u001b[0;34m\u001b[0m\u001b[0m\n\u001b[0m",
      "\u001b[0;31mTypeError\u001b[0m: argument of type 'int' is not iterable"
     ]
    }
   ],
   "source": []
  },
  {
   "cell_type": "code",
   "execution_count": null,
   "metadata": {},
   "outputs": [],
   "source": [
    "# run this code to turn in your work!\n",
    "from coursetools.submission import Submission\n",
    "Submission().submit_now()"
   ]
  }
 ],
 "metadata": {
  "anaconda-cloud": {},
  "kernelspec": {
   "display_name": "Python 3 (ipykernel)",
   "language": "python",
   "name": "python3"
  },
  "language_info": {
   "codemirror_mode": {
    "name": "ipython",
    "version": 3
   },
   "file_extension": ".py",
   "mimetype": "text/x-python",
   "name": "python",
   "nbconvert_exporter": "python",
   "pygments_lexer": "ipython3",
   "version": "3.9.7"
  },
  "toc": {
   "base_numbering": 1,
   "nav_menu": {},
   "number_sections": false,
   "sideBar": false,
   "skip_h1_title": false,
   "title_cell": "Table of Contents",
   "title_sidebar": "Contents",
   "toc_cell": false,
   "toc_position": {},
   "toc_section_display": false,
   "toc_window_display": false
  },
  "varInspector": {
   "cols": {
    "lenName": 16,
    "lenType": 16,
    "lenVar": 40
   },
   "kernels_config": {
    "python": {
     "delete_cmd_postfix": "",
     "delete_cmd_prefix": "del ",
     "library": "var_list.py",
     "varRefreshCmd": "print(var_dic_list())"
    },
    "r": {
     "delete_cmd_postfix": ") ",
     "delete_cmd_prefix": "rm(",
     "library": "var_list.r",
     "varRefreshCmd": "cat(var_dic_list()) "
    }
   },
   "types_to_exclude": [
    "module",
    "function",
    "builtin_function_or_method",
    "instance",
    "_Feature"
   ],
   "window_display": false
  }
 },
 "nbformat": 4,
 "nbformat_minor": 4
}
