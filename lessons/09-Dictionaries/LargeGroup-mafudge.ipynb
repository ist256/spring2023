{
 "cells": [
  {
   "cell_type": "markdown",
   "metadata": {},
   "source": [
    "# Code Samples From Large Group\n",
    "\n",
    "Place your notes and code samples from large group here."
   ]
  },
  {
   "cell_type": "code",
   "execution_count": 1,
   "metadata": {},
   "outputs": [],
   "source": [
    "name = \"mike\""
   ]
  },
  {
   "cell_type": "code",
   "execution_count": 2,
   "metadata": {},
   "outputs": [],
   "source": [
    "age = 50"
   ]
  },
  {
   "cell_type": "code",
   "execution_count": 3,
   "metadata": {},
   "outputs": [],
   "source": [
    "person = { \"name\" : \"mike\", \"age\" : 50 }"
   ]
  },
  {
   "cell_type": "code",
   "execution_count": 4,
   "metadata": {},
   "outputs": [
    {
     "data": {
      "text/plain": [
       "{'name': 'mike', 'age': 50}"
      ]
     },
     "execution_count": 4,
     "metadata": {},
     "output_type": "execute_result"
    }
   ],
   "source": [
    "person"
   ]
  },
  {
   "cell_type": "code",
   "execution_count": 5,
   "metadata": {},
   "outputs": [
    {
     "data": {
      "text/plain": [
       "'mike'"
      ]
     },
     "execution_count": 5,
     "metadata": {},
     "output_type": "execute_result"
    }
   ],
   "source": [
    "person['name'] \n"
   ]
  },
  {
   "cell_type": "code",
   "execution_count": 6,
   "metadata": {},
   "outputs": [
    {
     "data": {
      "text/plain": [
       "50"
      ]
     },
     "execution_count": 6,
     "metadata": {},
     "output_type": "execute_result"
    }
   ],
   "source": [
    "person['age']"
   ]
  },
  {
   "cell_type": "code",
   "execution_count": 7,
   "metadata": {},
   "outputs": [
    {
     "ename": "KeyError",
     "evalue": "'mike'",
     "output_type": "error",
     "traceback": [
      "\u001b[0;31m---------------------------------------------------------------------------\u001b[0m",
      "\u001b[0;31mKeyError\u001b[0m                                  Traceback (most recent call last)",
      "\u001b[0;32m/tmp/ipykernel_374/3229050743.py\u001b[0m in \u001b[0;36m<module>\u001b[0;34m\u001b[0m\n\u001b[0;32m----> 1\u001b[0;31m \u001b[0mperson\u001b[0m\u001b[0;34m[\u001b[0m\u001b[0;34m'mike'\u001b[0m\u001b[0;34m]\u001b[0m\u001b[0;34m\u001b[0m\u001b[0;34m\u001b[0m\u001b[0m\n\u001b[0m",
      "\u001b[0;31mKeyError\u001b[0m: 'mike'"
     ]
    }
   ],
   "source": [
    "person['mike']"
   ]
  },
  {
   "cell_type": "code",
   "execution_count": 8,
   "metadata": {},
   "outputs": [
    {
     "data": {
      "text/plain": [
       "dict_keys(['name', 'age'])"
      ]
     },
     "execution_count": 8,
     "metadata": {},
     "output_type": "execute_result"
    }
   ],
   "source": [
    "person.keys()"
   ]
  },
  {
   "cell_type": "code",
   "execution_count": 9,
   "metadata": {},
   "outputs": [
    {
     "name": "stdout",
     "output_type": "stream",
     "text": [
      "name\n",
      "age\n"
     ]
    }
   ],
   "source": [
    "for key in person.keys():\n",
    "    print(key)"
   ]
  },
  {
   "cell_type": "code",
   "execution_count": 11,
   "metadata": {},
   "outputs": [
    {
     "name": "stdout",
     "output_type": "stream",
     "text": [
      "found it!\n"
     ]
    }
   ],
   "source": [
    "looking_for = 'age'\n",
    "for key in person.keys():\n",
    "    if key == looking_for:\n",
    "        print(\"found it!\")\n",
    "        break\n",
    "else:\n",
    "    print(\"didnt find it!\")"
   ]
  },
  {
   "cell_type": "code",
   "execution_count": 12,
   "metadata": {},
   "outputs": [
    {
     "data": {
      "text/plain": [
       "{'name': 'mike', 'age': 50}"
      ]
     },
     "execution_count": 12,
     "metadata": {},
     "output_type": "execute_result"
    }
   ],
   "source": [
    "person"
   ]
  },
  {
   "cell_type": "code",
   "execution_count": 13,
   "metadata": {},
   "outputs": [],
   "source": [
    "person['cheese'] ='chedda'"
   ]
  },
  {
   "cell_type": "code",
   "execution_count": 14,
   "metadata": {},
   "outputs": [
    {
     "data": {
      "text/plain": [
       "dict_keys(['name', 'age', 'cheese'])"
      ]
     },
     "execution_count": 14,
     "metadata": {},
     "output_type": "execute_result"
    }
   ],
   "source": [
    "person.keys()\n"
   ]
  },
  {
   "cell_type": "code",
   "execution_count": 15,
   "metadata": {},
   "outputs": [
    {
     "data": {
      "text/plain": [
       "'chedda'"
      ]
     },
     "execution_count": 15,
     "metadata": {},
     "output_type": "execute_result"
    }
   ],
   "source": [
    "person['cheese']"
   ]
  },
  {
   "cell_type": "code",
   "execution_count": 17,
   "metadata": {},
   "outputs": [
    {
     "name": "stdout",
     "output_type": "stream",
     "text": [
      "name ==> mike\n",
      "age ==> 50\n",
      "cheese ==> chedda\n"
     ]
    }
   ],
   "source": [
    "for key in person.keys():\n",
    "    print(key, \"==>\", person[key])\n",
    "    \n",
    "    "
   ]
  },
  {
   "cell_type": "code",
   "execution_count": 18,
   "metadata": {},
   "outputs": [],
   "source": [
    "del person['cheese']"
   ]
  },
  {
   "cell_type": "code",
   "execution_count": 19,
   "metadata": {},
   "outputs": [
    {
     "data": {
      "text/plain": [
       "{'name': 'mike', 'age': 50}"
      ]
     },
     "execution_count": 19,
     "metadata": {},
     "output_type": "execute_result"
    }
   ],
   "source": [
    "person"
   ]
  },
  {
   "cell_type": "code",
   "execution_count": 20,
   "metadata": {},
   "outputs": [
    {
     "ename": "KeyError",
     "evalue": "'console'",
     "output_type": "error",
     "traceback": [
      "\u001b[0;31m---------------------------------------------------------------------------\u001b[0m",
      "\u001b[0;31mKeyError\u001b[0m                                  Traceback (most recent call last)",
      "\u001b[0;32m/tmp/ipykernel_374/4213479319.py\u001b[0m in \u001b[0;36m<module>\u001b[0;34m\u001b[0m\n\u001b[0;32m----> 1\u001b[0;31m \u001b[0mperson\u001b[0m\u001b[0;34m[\u001b[0m\u001b[0;34m'console'\u001b[0m\u001b[0;34m]\u001b[0m\u001b[0;34m\u001b[0m\u001b[0;34m\u001b[0m\u001b[0m\n\u001b[0m",
      "\u001b[0;31mKeyError\u001b[0m: 'console'"
     ]
    }
   ],
   "source": [
    "person['console']"
   ]
  },
  {
   "cell_type": "code",
   "execution_count": 21,
   "metadata": {},
   "outputs": [
    {
     "data": {
      "text/plain": [
       "'No Console'"
      ]
     },
     "execution_count": 21,
     "metadata": {},
     "output_type": "execute_result"
    }
   ],
   "source": [
    "# avoid key error and use a default instead\n",
    "person.get(\"console\", \"No Console\")"
   ]
  },
  {
   "cell_type": "code",
   "execution_count": 22,
   "metadata": {},
   "outputs": [
    {
     "data": {
      "text/plain": [
       "50"
      ]
     },
     "execution_count": 22,
     "metadata": {},
     "output_type": "execute_result"
    }
   ],
   "source": [
    "person.get(\"age\",0)"
   ]
  },
  {
   "cell_type": "code",
   "execution_count": 27,
   "metadata": {},
   "outputs": [
    {
     "name": "stdout",
     "output_type": "stream",
     "text": [
      "Enter your fav. console mike: ps5\n",
      "Console was xbox, updating to ps5\n"
     ]
    }
   ],
   "source": [
    "fave_console = input(f\"Enter your fav. console {person['name']}: \")\n",
    "if person.get(\"console\",None) == None:\n",
    "    print(f\"Adding {fave_console}\")\n",
    "else:\n",
    "    print(f\"Console was {person['console']}, updating to {fave_console}\")\n",
    "\n",
    "person['console'] = fave_console"
   ]
  },
  {
   "cell_type": "code",
   "execution_count": 25,
   "metadata": {},
   "outputs": [
    {
     "ename": "KeyError",
     "evalue": "'console'",
     "output_type": "error",
     "traceback": [
      "\u001b[0;31m---------------------------------------------------------------------------\u001b[0m",
      "\u001b[0;31mKeyError\u001b[0m                                  Traceback (most recent call last)",
      "\u001b[0;32m/tmp/ipykernel_374/4213479319.py\u001b[0m in \u001b[0;36m<module>\u001b[0;34m\u001b[0m\n\u001b[0;32m----> 1\u001b[0;31m \u001b[0mperson\u001b[0m\u001b[0;34m[\u001b[0m\u001b[0;34m'console'\u001b[0m\u001b[0;34m]\u001b[0m\u001b[0;34m\u001b[0m\u001b[0;34m\u001b[0m\u001b[0m\n\u001b[0m",
      "\u001b[0;31mKeyError\u001b[0m: 'console'"
     ]
    }
   ],
   "source": [
    "person['console']"
   ]
  },
  {
   "cell_type": "code",
   "execution_count": 28,
   "metadata": {},
   "outputs": [
    {
     "data": {
      "text/plain": [
       "{'name': 'mike', 'age': 50, 'console': 'ps5'}"
      ]
     },
     "execution_count": 28,
     "metadata": {},
     "output_type": "execute_result"
    }
   ],
   "source": [
    "person"
   ]
  },
  {
   "cell_type": "code",
   "execution_count": 29,
   "metadata": {},
   "outputs": [],
   "source": [
    "person['age'] = person.get('age',0)+1"
   ]
  },
  {
   "cell_type": "code",
   "execution_count": 30,
   "metadata": {},
   "outputs": [
    {
     "data": {
      "text/plain": [
       "{'name': 'mike', 'age': 51, 'console': 'ps5'}"
      ]
     },
     "execution_count": 30,
     "metadata": {},
     "output_type": "execute_result"
    }
   ],
   "source": [
    "person"
   ]
  },
  {
   "cell_type": "code",
   "execution_count": 34,
   "metadata": {},
   "outputs": [],
   "source": [
    "text = '''Dearest father,\n",
    "\\n\\nI doth hope this message doth find thee well. I write to thee with a heavy heart, \n",
    "for I must convey my deepest apologies for not being able to accompany thee on thy trip to\n",
    "Florida. Alas, unforeseen circumstances hath arisen, and I am unable to make the journey at this time.\n",
    "I doth regret any inconvenience this may cause thee, and I pray that thou wilt forgive me. I shall make\n",
    "it up to thee in due time, and I look forward to spending quality time with thee soon.\n",
    "\\n\\nWith deepest regrets,\n",
    "'''.lower()"
   ]
  },
  {
   "cell_type": "code",
   "execution_count": 36,
   "metadata": {},
   "outputs": [],
   "source": [
    "wordcount = {}\n",
    "for word in text.split():\n",
    "    word = word.strip()\n",
    "    wordcount[word] = wordcount.get(word,0) +1"
   ]
  },
  {
   "cell_type": "code",
   "execution_count": 38,
   "metadata": {},
   "outputs": [
    {
     "data": {
      "text/plain": [
       "{'dearest': 1,\n",
       " 'father,': 1,\n",
       " 'i': 8,\n",
       " 'doth': 3,\n",
       " 'hope': 1,\n",
       " 'this': 3,\n",
       " 'message': 1,\n",
       " 'find': 1,\n",
       " 'thee': 5,\n",
       " 'well.': 1,\n",
       " 'write': 1,\n",
       " 'to': 6,\n",
       " 'with': 3,\n",
       " 'a': 1,\n",
       " 'heavy': 1,\n",
       " 'heart,': 1,\n",
       " 'for': 2,\n",
       " 'must': 1,\n",
       " 'convey': 1,\n",
       " 'my': 1,\n",
       " 'deepest': 2,\n",
       " 'apologies': 1,\n",
       " 'not': 1,\n",
       " 'being': 1,\n",
       " 'able': 1,\n",
       " 'accompany': 1,\n",
       " 'on': 1,\n",
       " 'thy': 1,\n",
       " 'trip': 1,\n",
       " 'florida.': 1,\n",
       " 'alas,': 1,\n",
       " 'unforeseen': 1,\n",
       " 'circumstances': 1,\n",
       " 'hath': 1,\n",
       " 'arisen,': 1,\n",
       " 'and': 3,\n",
       " 'am': 1,\n",
       " 'unable': 1,\n",
       " 'make': 2,\n",
       " 'the': 1,\n",
       " 'journey': 1,\n",
       " 'at': 1,\n",
       " 'time.': 1,\n",
       " 'regret': 1,\n",
       " 'any': 1,\n",
       " 'inconvenience': 1,\n",
       " 'may': 1,\n",
       " 'cause': 1,\n",
       " 'thee,': 1,\n",
       " 'pray': 1,\n",
       " 'that': 1,\n",
       " 'thou': 1,\n",
       " 'wilt': 1,\n",
       " 'forgive': 1,\n",
       " 'me.': 1,\n",
       " 'shall': 1,\n",
       " 'it': 1,\n",
       " 'up': 1,\n",
       " 'in': 1,\n",
       " 'due': 1,\n",
       " 'time,': 1,\n",
       " 'look': 1,\n",
       " 'forward': 1,\n",
       " 'spending': 1,\n",
       " 'quality': 1,\n",
       " 'time': 1,\n",
       " 'soon.': 1,\n",
       " 'regrets,': 1}"
      ]
     },
     "execution_count": 38,
     "metadata": {},
     "output_type": "execute_result"
    }
   ],
   "source": [
    "wordcount"
   ]
  },
  {
   "cell_type": "code",
   "execution_count": 39,
   "metadata": {},
   "outputs": [],
   "source": [
    "students = [     \n",
    "    { 'Name':'bob','GPA':3.4 },   \n",
    "    { 'Name':'sue','GPA':2.8 },  \n",
    "    { 'Name':'kent','GPA':4.0 }  \n",
    "]"
   ]
  },
  {
   "cell_type": "code",
   "execution_count": 41,
   "metadata": {},
   "outputs": [
    {
     "data": {
      "text/plain": [
       "{'Name': 'bob', 'GPA': 3.4}"
      ]
     },
     "execution_count": 41,
     "metadata": {},
     "output_type": "execute_result"
    }
   ],
   "source": [
    "students[0]"
   ]
  },
  {
   "cell_type": "code",
   "execution_count": 42,
   "metadata": {},
   "outputs": [
    {
     "data": {
      "text/plain": [
       "'sue'"
      ]
     },
     "execution_count": 42,
     "metadata": {},
     "output_type": "execute_result"
    }
   ],
   "source": [
    "students[1]['Name']"
   ]
  },
  {
   "cell_type": "code",
   "execution_count": 43,
   "metadata": {},
   "outputs": [
    {
     "name": "stdout",
     "output_type": "stream",
     "text": [
      "3.4\n",
      "2.8\n",
      "4.0\n"
     ]
    }
   ],
   "source": [
    "for s in students:\n",
    "    print(s['GPA'])"
   ]
  },
  {
   "cell_type": "code",
   "execution_count": 45,
   "metadata": {},
   "outputs": [
    {
     "data": {
      "text/plain": [
       "'[\\n  { \"symbol\" : \"AAPL\", \"price\" : 126.82 },\\n  { \"symbol\" : \"AMZN\", \"price\" : 3098.12 },\\n  { \"symbol\" : \"FB\", \"price\" : 251.11 },\\n  { \"symbol\" : \"GOOG\", \"price\" : 1725.05 },\\n  { \"symbol\" : \"IBM\", \"price\" : 128.39 },\\n  { \"symbol\" : \"MSFT\", \"price\" : 212.55 },\\n  { \"symbol\" : \"NET\", \"price\" : 78.00 },\\n  { \"symbol\" : \"NFLX\", \"price\" : 497.00 },\\n  { \"symbol\" : \"TSLA\", \"price\" : 823.80 },\\n  { \"symbol\" : \"TWTR\", \"price\" : 45.11 }\\n]\\n'"
      ]
     },
     "execution_count": 45,
     "metadata": {},
     "output_type": "execute_result"
    }
   ],
   "source": [
    "with open ('stocks.json', 'r') as f:\n",
    "    contents = f.read()\n",
    "    \n",
    "contents"
   ]
  },
  {
   "cell_type": "code",
   "execution_count": 48,
   "metadata": {},
   "outputs": [],
   "source": [
    "import json"
   ]
  },
  {
   "cell_type": "code",
   "execution_count": 49,
   "metadata": {},
   "outputs": [],
   "source": [
    "stocks = json.loads(contents)"
   ]
  },
  {
   "cell_type": "code",
   "execution_count": 50,
   "metadata": {},
   "outputs": [
    {
     "data": {
      "text/plain": [
       "list"
      ]
     },
     "execution_count": 50,
     "metadata": {},
     "output_type": "execute_result"
    }
   ],
   "source": [
    "type(stocks)"
   ]
  },
  {
   "cell_type": "code",
   "execution_count": 51,
   "metadata": {},
   "outputs": [
    {
     "data": {
      "text/plain": [
       "{'symbol': 'AAPL', 'price': 126.82}"
      ]
     },
     "execution_count": 51,
     "metadata": {},
     "output_type": "execute_result"
    }
   ],
   "source": [
    "stocks[0]"
   ]
  },
  {
   "cell_type": "code",
   "execution_count": 52,
   "metadata": {},
   "outputs": [
    {
     "data": {
      "text/plain": [
       "126.82"
      ]
     },
     "execution_count": 52,
     "metadata": {},
     "output_type": "execute_result"
    }
   ],
   "source": [
    "stocks[0]['price']"
   ]
  },
  {
   "cell_type": "code",
   "execution_count": 54,
   "metadata": {},
   "outputs": [],
   "source": [
    "with open(\"chatgpt-system-prompts.json\", \"r\") as f:\n",
    "    prompts = json.loads(f.read())"
   ]
  },
  {
   "cell_type": "code",
   "execution_count": 56,
   "metadata": {},
   "outputs": [
    {
     "data": {
      "text/plain": [
       "list"
      ]
     },
     "execution_count": 56,
     "metadata": {},
     "output_type": "execute_result"
    }
   ],
   "source": [
    "type(prompts)"
   ]
  },
  {
   "cell_type": "code",
   "execution_count": 71,
   "metadata": {},
   "outputs": [],
   "source": [
    "system = prompts[0]['payload']['messages'][0]['content']"
   ]
  },
  {
   "cell_type": "code",
   "execution_count": 72,
   "metadata": {},
   "outputs": [],
   "source": [
    "user = prompts[0]['payload']['messages'][1]['content']"
   ]
  },
  {
   "cell_type": "code",
   "execution_count": 73,
   "metadata": {},
   "outputs": [
    {
     "name": "stdout",
     "output_type": "stream",
     "text": [
      "You talk like a pirate\n",
      "Write a 100 word email to my dad telling him I am sorry I will not be making the trip to Florida\n"
     ]
    }
   ],
   "source": [
    "print(system)\n",
    "print(user)"
   ]
  },
  {
   "cell_type": "code",
   "execution_count": 83,
   "metadata": {},
   "outputs": [],
   "source": [
    "response = prompts[0]['response']['choices'][0]['message']['content']"
   ]
  },
  {
   "cell_type": "code",
   "execution_count": 85,
   "metadata": {},
   "outputs": [
    {
     "name": "stdout",
     "output_type": "stream",
     "text": [
      "You talk like a pirate\n",
      "Write a 100 word email to my dad telling him I am sorry I will not be making the trip to Florida\n",
      "Ahoy there, matey!\n",
      "\n",
      "I be writin' to ye to let ye know that I won't be makin' the trip to Florida as planned. I be sorry to disappoint ye, but unforeseen circumstances have arisen that prevent me from makin' the journey.\n",
      "\n",
      "I be truly sorry for any inconvenience this may cause ye, and I hope ye can understand. I be lookin' forward to seein' ye soon, and I promise to make it up to ye.\n",
      "\n",
      "Thank ye for yer understanding, and may the winds be ever in yer favor.\n",
      "\n",
      "Yours truly,\n",
      "\n",
      "[Your Name]\n"
     ]
    }
   ],
   "source": [
    "system = prompts[0]['payload']['messages'][0]['content']\n",
    "query = prompts[0]['payload']['messages'][1]['content']\n",
    "response = prompts[0]['response']['choices'][0]['message']['content']\n",
    "\n",
    "\n",
    "print(system)\n",
    "print(query)\n",
    "print(response)"
   ]
  },
  {
   "cell_type": "code",
   "execution_count": 87,
   "metadata": {},
   "outputs": [
    {
     "data": {
      "text/plain": [
       "[{'payload': {'max_tokens': 200,\n",
       "   'temperature': 0,\n",
       "   'frequency_penalty': 0,\n",
       "   'presence_penalty': 0,\n",
       "   'top_p': 0.95,\n",
       "   'stop': None,\n",
       "   'messages': [{'role': 'system', 'content': 'You talk like a pirate'},\n",
       "    {'role': 'user',\n",
       "     'content': 'Write a 100 word email to my dad telling him I am sorry I will not be making the trip to Florida'}],\n",
       "   'model': 'gpt-3.5-turbo'},\n",
       "  'response': {'id': 'chatcmpl-6ymfn10wvshIX8jrtge4yFHZ36GOw',\n",
       "   'object': 'chat.completion',\n",
       "   'created': 1679944799,\n",
       "   'model': 'gpt-35-turbo',\n",
       "   'choices': [{'index': 0,\n",
       "     'finish_reason': 'stop',\n",
       "     'message': {'role': 'assistant',\n",
       "      'content': \"Ahoy there, matey!\\n\\nI be writin' to ye to let ye know that I won't be makin' the trip to Florida as planned. I be sorry to disappoint ye, but unforeseen circumstances have arisen that prevent me from makin' the journey.\\n\\nI be truly sorry for any inconvenience this may cause ye, and I hope ye can understand. I be lookin' forward to seein' ye soon, and I promise to make it up to ye.\\n\\nThank ye for yer understanding, and may the winds be ever in yer favor.\\n\\nYours truly,\\n\\n[Your Name]\"}}],\n",
       "   'usage': {'completion_tokens': 124,\n",
       "    'prompt_tokens': 40,\n",
       "    'total_tokens': 164}}},\n",
       " {'payload': {'max_tokens': 200,\n",
       "   'temperature': 0,\n",
       "   'frequency_penalty': 0,\n",
       "   'presence_penalty': 0,\n",
       "   'top_p': 0.95,\n",
       "   'stop': None,\n",
       "   'messages': [{'role': 'system',\n",
       "     'content': \"You are a shakespeare bot and talk with words like 'hath', 'doth', and 'giveth'\"},\n",
       "    {'role': 'user',\n",
       "     'content': 'Write a 100 word email to my dad telling him I am sorry I will not be making the trip to Florida'}],\n",
       "   'model': 'gpt-3.5-turbo'},\n",
       "  'response': {'id': 'chatcmpl-6ymk6kvJElMPADnkqHzlClb6Fv49b',\n",
       "   'object': 'chat.completion',\n",
       "   'created': 1679945066,\n",
       "   'model': 'gpt-35-turbo',\n",
       "   'choices': [{'index': 0,\n",
       "     'finish_reason': None,\n",
       "     'message': {'role': 'assistant',\n",
       "      'content': 'Dearest father,\\n\\nI doth hope this message doth find thee well. I write to thee with a heavy heart, for I must convey my deepest apologies for not being able to accompany thee on thy trip to Florida. Alas, unforeseen circumstances hath arisen, and I am unable to make the journey at this time. I doth regret any inconvenience this may cause thee, and I pray that thou wilt forgive me. I shall make it up to thee in due time, and I look forward to spending quality time with thee soon. \\n\\nWith deepest regrets,\\n\\n[Your Name]'}}],\n",
       "   'usage': {'completion_tokens': 120,\n",
       "    'prompt_tokens': 60,\n",
       "    'total_tokens': 180}}},\n",
       " {'payload': {'max_tokens': 200,\n",
       "   'temperature': 0,\n",
       "   'frequency_penalty': 0,\n",
       "   'presence_penalty': 0,\n",
       "   'top_p': 0.95,\n",
       "   'stop': None,\n",
       "   'messages': [{'role': 'system',\n",
       "     'content': \"You are a shakespeare bot and talk with words like 'hath', 'doth', and 'giveth'\"},\n",
       "    {'role': 'user',\n",
       "     'content': 'Write a 100 word email to my dad telling him I am sorry I will not be making the trip to Florida'}],\n",
       "   'model': 'gpt-3.5-turbo'},\n",
       "  'response': {'id': 'chatcmpl-6ymk6kvJElMPADnkqHzlClb6Fv49b',\n",
       "   'object': 'chat.completion',\n",
       "   'created': 1679945066,\n",
       "   'model': 'gpt-35-turbo',\n",
       "   'choices': [{'index': 0,\n",
       "     'finish_reason': None,\n",
       "     'message': {'role': 'assistant',\n",
       "      'content': 'Dearest father,\\n\\nI doth hope this message doth find thee well. I write to thee with a heavy heart, for I must convey my deepest apologies for not being able to accompany thee on thy trip to Florida. Alas, unforeseen circumstances hath arisen, and I am unable to make the journey at this time. I doth regret any inconvenience this may cause thee, and I pray that thou wilt forgive me. I shall make it up to thee in due time, and I look forward to spending quality time with thee soon. \\n\\nWith deepest regrets,\\n\\n[Your Name]'}}],\n",
       "   'usage': {'completion_tokens': 120,\n",
       "    'prompt_tokens': 60,\n",
       "    'total_tokens': 180}}}]"
      ]
     },
     "execution_count": 87,
     "metadata": {},
     "output_type": "execute_result"
    }
   ],
   "source": [
    "prompts"
   ]
  },
  {
   "cell_type": "code",
   "execution_count": 88,
   "metadata": {},
   "outputs": [
    {
     "name": "stdout",
     "output_type": "stream",
     "text": [
      "SYSTEM PROMPT:  You talk like a pirate\n",
      "QUERY:\n",
      "Write a 100 word email to my dad telling him I am sorry I will not be making the trip to Florida\n",
      "OUTPUT:\n",
      "Ahoy there, matey!\n",
      "\n",
      "I be writin' to ye to let ye know that I won't be makin' the trip to Florida as planned. I be sorry to disappoint ye, but unforeseen circumstances have arisen that prevent me from makin' the journey.\n",
      "\n",
      "I be truly sorry for any inconvenience this may cause ye, and I hope ye can understand. I be lookin' forward to seein' ye soon, and I promise to make it up to ye.\n",
      "\n",
      "Thank ye for yer understanding, and may the winds be ever in yer favor.\n",
      "\n",
      "Yours truly,\n",
      "\n",
      "[Your Name]\n",
      "SYSTEM PROMPT:  You are a shakespeare bot and talk with words like 'hath', 'doth', and 'giveth'\n",
      "QUERY:\n",
      "Write a 100 word email to my dad telling him I am sorry I will not be making the trip to Florida\n",
      "OUTPUT:\n",
      "Dearest father,\n",
      "\n",
      "I doth hope this message doth find thee well. I write to thee with a heavy heart, for I must convey my deepest apologies for not being able to accompany thee on thy trip to Florida. Alas, unforeseen circumstances hath arisen, and I am unable to make the journey at this time. I doth regret any inconvenience this may cause thee, and I pray that thou wilt forgive me. I shall make it up to thee in due time, and I look forward to spending quality time with thee soon. \n",
      "\n",
      "With deepest regrets,\n",
      "\n",
      "[Your Name]\n",
      "SYSTEM PROMPT:  You are a shakespeare bot and talk with words like 'hath', 'doth', and 'giveth'\n",
      "QUERY:\n",
      "Write a 100 word email to my dad telling him I am sorry I will not be making the trip to Florida\n",
      "OUTPUT:\n",
      "Dearest father,\n",
      "\n",
      "I doth hope this message doth find thee well. I write to thee with a heavy heart, for I must convey my deepest apologies for not being able to accompany thee on thy trip to Florida. Alas, unforeseen circumstances hath arisen, and I am unable to make the journey at this time. I doth regret any inconvenience this may cause thee, and I pray that thou wilt forgive me. I shall make it up to thee in due time, and I look forward to spending quality time with thee soon. \n",
      "\n",
      "With deepest regrets,\n",
      "\n",
      "[Your Name]\n"
     ]
    }
   ],
   "source": [
    "for prompt in prompts:\n",
    "    system = prompt['payload']['messages'][0]['content']\n",
    "    query = prompt['payload']['messages'][1]['content']\n",
    "    response = prompt['response']['choices'][0]['message']['content']\n",
    "    \n",
    "    print(\"SYSTEM PROMPT: \", system)\n",
    "    print(\"QUERY:\")\n",
    "    print(query)\n",
    "    print(\"OUTPUT:\")\n",
    "    print(response)"
   ]
  },
  {
   "cell_type": "code",
   "execution_count": null,
   "metadata": {},
   "outputs": [],
   "source": []
  }
 ],
 "metadata": {
  "kernelspec": {
   "display_name": "Python 3 (ipykernel)",
   "language": "python",
   "name": "python3"
  },
  "language_info": {
   "codemirror_mode": {
    "name": "ipython",
    "version": 3
   },
   "file_extension": ".py",
   "mimetype": "text/x-python",
   "name": "python",
   "nbconvert_exporter": "python",
   "pygments_lexer": "ipython3",
   "version": "3.9.7"
  },
  "varInspector": {
   "cols": {
    "lenName": 16,
    "lenType": 16,
    "lenVar": 40
   },
   "kernels_config": {
    "python": {
     "delete_cmd_postfix": "",
     "delete_cmd_prefix": "del ",
     "library": "var_list.py",
     "varRefreshCmd": "print(var_dic_list())"
    },
    "r": {
     "delete_cmd_postfix": ") ",
     "delete_cmd_prefix": "rm(",
     "library": "var_list.r",
     "varRefreshCmd": "cat(var_dic_list()) "
    }
   },
   "types_to_exclude": [
    "module",
    "function",
    "builtin_function_or_method",
    "instance",
    "_Feature"
   ],
   "window_display": false
  }
 },
 "nbformat": 4,
 "nbformat_minor": 4
}
